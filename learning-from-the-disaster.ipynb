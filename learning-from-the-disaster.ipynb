{
 "cells": [
  {
   "cell_type": "raw",
   "id": "baa01707",
   "metadata": {
    "papermill": {
     "duration": 0.0136,
     "end_time": "2022-10-03T19:11:40.260073",
     "exception": false,
     "start_time": "2022-10-03T19:11:40.246473",
     "status": "completed"
    },
    "tags": []
   },
   "source": []
  },
  {
   "cell_type": "code",
   "execution_count": 1,
   "id": "31f212c9",
   "metadata": {
    "_cell_guid": "b1076dfc-b9ad-4769-8c92-a6c4dae69d19",
    "_uuid": "8f2839f25d086af736a60e9eeb907d3b93b6e0e5",
    "execution": {
     "iopub.execute_input": "2022-10-03T19:11:40.285078Z",
     "iopub.status.busy": "2022-10-03T19:11:40.284611Z",
     "iopub.status.idle": "2022-10-03T19:11:41.550089Z",
     "shell.execute_reply": "2022-10-03T19:11:41.548913Z"
    },
    "papermill": {
     "duration": 1.280937,
     "end_time": "2022-10-03T19:11:41.553413",
     "exception": false,
     "start_time": "2022-10-03T19:11:40.272476",
     "status": "completed"
    },
    "tags": []
   },
   "outputs": [
    {
     "name": "stdout",
     "output_type": "stream",
     "text": [
      "/kaggle/input/titanic/train.csv\n",
      "/kaggle/input/titanic/test.csv\n",
      "/kaggle/input/titanic/gender_submission.csv\n"
     ]
    }
   ],
   "source": [
    "# This Python 3 environment comes with many helpful analytics libraries installed\n",
    "# It is defined by the kaggle/python Docker image: https://github.com/kaggle/docker-python\n",
    "# For example, here's several helpful packages to load\n",
    "\n",
    "import numpy as np # linear algebra\n",
    "import pandas as pd # data processing, CSV file I/O (e.g. pd.read_csv)\n",
    "import matplotlib.pyplot as plt\n",
    "import seaborn as sns\n",
    "from sklearn.pipeline import Pipeline\n",
    "from sklearn.preprocessing import StandardScaler,PolynomialFeatures\n",
    "from sklearn.linear_model import LinearRegression\n",
    "%matplotlib inline\n",
    "\n",
    "# Input data files are available in the read-only \"../input/\" directory\n",
    "# For example, running this (by clicking run or pressing Shift+Enter) will list all files under the input directory\n",
    "\n",
    "import os\n",
    "for dirname, _, filenames in os.walk('/kaggle/input'):\n",
    "    for filename in filenames:\n",
    "        print(os.path.join(dirname, filename))\n",
    "\n",
    "# You can write up to 20GB to the current directory (/kaggle/working/) that gets preserved as output when you create a version using \"Save & Run All\" \n",
    "# You can also write temporary files to /kaggle/temp/, but they won't be saved outside of the current session"
   ]
  },
  {
   "cell_type": "code",
   "execution_count": 2,
   "id": "eed5d772",
   "metadata": {
    "execution": {
     "iopub.execute_input": "2022-10-03T19:11:41.574462Z",
     "iopub.status.busy": "2022-10-03T19:11:41.574036Z",
     "iopub.status.idle": "2022-10-03T19:11:41.601387Z",
     "shell.execute_reply": "2022-10-03T19:11:41.600361Z"
    },
    "papermill": {
     "duration": 0.040737,
     "end_time": "2022-10-03T19:11:41.604031",
     "exception": false,
     "start_time": "2022-10-03T19:11:41.563294",
     "status": "completed"
    },
    "tags": []
   },
   "outputs": [],
   "source": [
    "dftrain = pd.read_csv('../input/titanic/train.csv')\n",
    "dfeval  = pd.read_csv('../input/titanic/test.csv')"
   ]
  },
  {
   "cell_type": "code",
   "execution_count": 3,
   "id": "f9163e24",
   "metadata": {
    "execution": {
     "iopub.execute_input": "2022-10-03T19:11:41.624685Z",
     "iopub.status.busy": "2022-10-03T19:11:41.624305Z",
     "iopub.status.idle": "2022-10-03T19:11:41.647929Z",
     "shell.execute_reply": "2022-10-03T19:11:41.646751Z"
    },
    "papermill": {
     "duration": 0.03673,
     "end_time": "2022-10-03T19:11:41.650263",
     "exception": false,
     "start_time": "2022-10-03T19:11:41.613533",
     "status": "completed"
    },
    "tags": []
   },
   "outputs": [
    {
     "data": {
      "text/html": [
       "<div>\n",
       "<style scoped>\n",
       "    .dataframe tbody tr th:only-of-type {\n",
       "        vertical-align: middle;\n",
       "    }\n",
       "\n",
       "    .dataframe tbody tr th {\n",
       "        vertical-align: top;\n",
       "    }\n",
       "\n",
       "    .dataframe thead th {\n",
       "        text-align: right;\n",
       "    }\n",
       "</style>\n",
       "<table border=\"1\" class=\"dataframe\">\n",
       "  <thead>\n",
       "    <tr style=\"text-align: right;\">\n",
       "      <th></th>\n",
       "      <th>PassengerId</th>\n",
       "      <th>Survived</th>\n",
       "      <th>Pclass</th>\n",
       "      <th>Name</th>\n",
       "      <th>Sex</th>\n",
       "      <th>Age</th>\n",
       "      <th>SibSp</th>\n",
       "      <th>Parch</th>\n",
       "      <th>Ticket</th>\n",
       "      <th>Fare</th>\n",
       "      <th>Cabin</th>\n",
       "      <th>Embarked</th>\n",
       "    </tr>\n",
       "  </thead>\n",
       "  <tbody>\n",
       "    <tr>\n",
       "      <th>0</th>\n",
       "      <td>1</td>\n",
       "      <td>0</td>\n",
       "      <td>3</td>\n",
       "      <td>Braund, Mr. Owen Harris</td>\n",
       "      <td>male</td>\n",
       "      <td>22.0</td>\n",
       "      <td>1</td>\n",
       "      <td>0</td>\n",
       "      <td>A/5 21171</td>\n",
       "      <td>7.2500</td>\n",
       "      <td>NaN</td>\n",
       "      <td>S</td>\n",
       "    </tr>\n",
       "    <tr>\n",
       "      <th>1</th>\n",
       "      <td>2</td>\n",
       "      <td>1</td>\n",
       "      <td>1</td>\n",
       "      <td>Cumings, Mrs. John Bradley (Florence Briggs Th...</td>\n",
       "      <td>female</td>\n",
       "      <td>38.0</td>\n",
       "      <td>1</td>\n",
       "      <td>0</td>\n",
       "      <td>PC 17599</td>\n",
       "      <td>71.2833</td>\n",
       "      <td>C85</td>\n",
       "      <td>C</td>\n",
       "    </tr>\n",
       "    <tr>\n",
       "      <th>2</th>\n",
       "      <td>3</td>\n",
       "      <td>1</td>\n",
       "      <td>3</td>\n",
       "      <td>Heikkinen, Miss. Laina</td>\n",
       "      <td>female</td>\n",
       "      <td>26.0</td>\n",
       "      <td>0</td>\n",
       "      <td>0</td>\n",
       "      <td>STON/O2. 3101282</td>\n",
       "      <td>7.9250</td>\n",
       "      <td>NaN</td>\n",
       "      <td>S</td>\n",
       "    </tr>\n",
       "    <tr>\n",
       "      <th>3</th>\n",
       "      <td>4</td>\n",
       "      <td>1</td>\n",
       "      <td>1</td>\n",
       "      <td>Futrelle, Mrs. Jacques Heath (Lily May Peel)</td>\n",
       "      <td>female</td>\n",
       "      <td>35.0</td>\n",
       "      <td>1</td>\n",
       "      <td>0</td>\n",
       "      <td>113803</td>\n",
       "      <td>53.1000</td>\n",
       "      <td>C123</td>\n",
       "      <td>S</td>\n",
       "    </tr>\n",
       "    <tr>\n",
       "      <th>4</th>\n",
       "      <td>5</td>\n",
       "      <td>0</td>\n",
       "      <td>3</td>\n",
       "      <td>Allen, Mr. William Henry</td>\n",
       "      <td>male</td>\n",
       "      <td>35.0</td>\n",
       "      <td>0</td>\n",
       "      <td>0</td>\n",
       "      <td>373450</td>\n",
       "      <td>8.0500</td>\n",
       "      <td>NaN</td>\n",
       "      <td>S</td>\n",
       "    </tr>\n",
       "  </tbody>\n",
       "</table>\n",
       "</div>"
      ],
      "text/plain": [
       "   PassengerId  Survived  Pclass  \\\n",
       "0            1         0       3   \n",
       "1            2         1       1   \n",
       "2            3         1       3   \n",
       "3            4         1       1   \n",
       "4            5         0       3   \n",
       "\n",
       "                                                Name     Sex   Age  SibSp  \\\n",
       "0                            Braund, Mr. Owen Harris    male  22.0      1   \n",
       "1  Cumings, Mrs. John Bradley (Florence Briggs Th...  female  38.0      1   \n",
       "2                             Heikkinen, Miss. Laina  female  26.0      0   \n",
       "3       Futrelle, Mrs. Jacques Heath (Lily May Peel)  female  35.0      1   \n",
       "4                           Allen, Mr. William Henry    male  35.0      0   \n",
       "\n",
       "   Parch            Ticket     Fare Cabin Embarked  \n",
       "0      0         A/5 21171   7.2500   NaN        S  \n",
       "1      0          PC 17599  71.2833   C85        C  \n",
       "2      0  STON/O2. 3101282   7.9250   NaN        S  \n",
       "3      0            113803  53.1000  C123        S  \n",
       "4      0            373450   8.0500   NaN        S  "
      ]
     },
     "execution_count": 3,
     "metadata": {},
     "output_type": "execute_result"
    }
   ],
   "source": [
    "dftrain.head()"
   ]
  },
  {
   "cell_type": "code",
   "execution_count": 4,
   "id": "dc85475f",
   "metadata": {
    "execution": {
     "iopub.execute_input": "2022-10-03T19:11:41.671801Z",
     "iopub.status.busy": "2022-10-03T19:11:41.671006Z",
     "iopub.status.idle": "2022-10-03T19:11:41.695882Z",
     "shell.execute_reply": "2022-10-03T19:11:41.694225Z"
    },
    "papermill": {
     "duration": 0.038277,
     "end_time": "2022-10-03T19:11:41.698450",
     "exception": false,
     "start_time": "2022-10-03T19:11:41.660173",
     "status": "completed"
    },
    "tags": []
   },
   "outputs": [
    {
     "name": "stdout",
     "output_type": "stream",
     "text": [
      "<class 'pandas.core.frame.DataFrame'>\n",
      "RangeIndex: 891 entries, 0 to 890\n",
      "Data columns (total 12 columns):\n",
      " #   Column       Non-Null Count  Dtype  \n",
      "---  ------       --------------  -----  \n",
      " 0   PassengerId  891 non-null    int64  \n",
      " 1   Survived     891 non-null    int64  \n",
      " 2   Pclass       891 non-null    int64  \n",
      " 3   Name         891 non-null    object \n",
      " 4   Sex          891 non-null    object \n",
      " 5   Age          714 non-null    float64\n",
      " 6   SibSp        891 non-null    int64  \n",
      " 7   Parch        891 non-null    int64  \n",
      " 8   Ticket       891 non-null    object \n",
      " 9   Fare         891 non-null    float64\n",
      " 10  Cabin        204 non-null    object \n",
      " 11  Embarked     889 non-null    object \n",
      "dtypes: float64(2), int64(5), object(5)\n",
      "memory usage: 83.7+ KB\n"
     ]
    }
   ],
   "source": [
    "dftrain.info()"
   ]
  },
  {
   "cell_type": "code",
   "execution_count": 5,
   "id": "0df05c40",
   "metadata": {
    "execution": {
     "iopub.execute_input": "2022-10-03T19:11:41.721096Z",
     "iopub.status.busy": "2022-10-03T19:11:41.720728Z",
     "iopub.status.idle": "2022-10-03T19:11:41.765116Z",
     "shell.execute_reply": "2022-10-03T19:11:41.764074Z"
    },
    "papermill": {
     "duration": 0.057916,
     "end_time": "2022-10-03T19:11:41.767585",
     "exception": false,
     "start_time": "2022-10-03T19:11:41.709669",
     "status": "completed"
    },
    "tags": []
   },
   "outputs": [
    {
     "data": {
      "text/html": [
       "<div>\n",
       "<style scoped>\n",
       "    .dataframe tbody tr th:only-of-type {\n",
       "        vertical-align: middle;\n",
       "    }\n",
       "\n",
       "    .dataframe tbody tr th {\n",
       "        vertical-align: top;\n",
       "    }\n",
       "\n",
       "    .dataframe thead th {\n",
       "        text-align: right;\n",
       "    }\n",
       "</style>\n",
       "<table border=\"1\" class=\"dataframe\">\n",
       "  <thead>\n",
       "    <tr style=\"text-align: right;\">\n",
       "      <th></th>\n",
       "      <th>PassengerId</th>\n",
       "      <th>Survived</th>\n",
       "      <th>Pclass</th>\n",
       "      <th>Name</th>\n",
       "      <th>Sex</th>\n",
       "      <th>Age</th>\n",
       "      <th>SibSp</th>\n",
       "      <th>Parch</th>\n",
       "      <th>Ticket</th>\n",
       "      <th>Fare</th>\n",
       "      <th>Cabin</th>\n",
       "      <th>Embarked</th>\n",
       "    </tr>\n",
       "  </thead>\n",
       "  <tbody>\n",
       "    <tr>\n",
       "      <th>count</th>\n",
       "      <td>891.000000</td>\n",
       "      <td>891.000000</td>\n",
       "      <td>891.000000</td>\n",
       "      <td>891</td>\n",
       "      <td>891</td>\n",
       "      <td>714.000000</td>\n",
       "      <td>891.000000</td>\n",
       "      <td>891.000000</td>\n",
       "      <td>891</td>\n",
       "      <td>891.000000</td>\n",
       "      <td>204</td>\n",
       "      <td>889</td>\n",
       "    </tr>\n",
       "    <tr>\n",
       "      <th>unique</th>\n",
       "      <td>NaN</td>\n",
       "      <td>NaN</td>\n",
       "      <td>NaN</td>\n",
       "      <td>891</td>\n",
       "      <td>2</td>\n",
       "      <td>NaN</td>\n",
       "      <td>NaN</td>\n",
       "      <td>NaN</td>\n",
       "      <td>681</td>\n",
       "      <td>NaN</td>\n",
       "      <td>147</td>\n",
       "      <td>3</td>\n",
       "    </tr>\n",
       "    <tr>\n",
       "      <th>top</th>\n",
       "      <td>NaN</td>\n",
       "      <td>NaN</td>\n",
       "      <td>NaN</td>\n",
       "      <td>Braund, Mr. Owen Harris</td>\n",
       "      <td>male</td>\n",
       "      <td>NaN</td>\n",
       "      <td>NaN</td>\n",
       "      <td>NaN</td>\n",
       "      <td>347082</td>\n",
       "      <td>NaN</td>\n",
       "      <td>B96 B98</td>\n",
       "      <td>S</td>\n",
       "    </tr>\n",
       "    <tr>\n",
       "      <th>freq</th>\n",
       "      <td>NaN</td>\n",
       "      <td>NaN</td>\n",
       "      <td>NaN</td>\n",
       "      <td>1</td>\n",
       "      <td>577</td>\n",
       "      <td>NaN</td>\n",
       "      <td>NaN</td>\n",
       "      <td>NaN</td>\n",
       "      <td>7</td>\n",
       "      <td>NaN</td>\n",
       "      <td>4</td>\n",
       "      <td>644</td>\n",
       "    </tr>\n",
       "    <tr>\n",
       "      <th>mean</th>\n",
       "      <td>446.000000</td>\n",
       "      <td>0.383838</td>\n",
       "      <td>2.308642</td>\n",
       "      <td>NaN</td>\n",
       "      <td>NaN</td>\n",
       "      <td>29.699118</td>\n",
       "      <td>0.523008</td>\n",
       "      <td>0.381594</td>\n",
       "      <td>NaN</td>\n",
       "      <td>32.204208</td>\n",
       "      <td>NaN</td>\n",
       "      <td>NaN</td>\n",
       "    </tr>\n",
       "    <tr>\n",
       "      <th>std</th>\n",
       "      <td>257.353842</td>\n",
       "      <td>0.486592</td>\n",
       "      <td>0.836071</td>\n",
       "      <td>NaN</td>\n",
       "      <td>NaN</td>\n",
       "      <td>14.526497</td>\n",
       "      <td>1.102743</td>\n",
       "      <td>0.806057</td>\n",
       "      <td>NaN</td>\n",
       "      <td>49.693429</td>\n",
       "      <td>NaN</td>\n",
       "      <td>NaN</td>\n",
       "    </tr>\n",
       "    <tr>\n",
       "      <th>min</th>\n",
       "      <td>1.000000</td>\n",
       "      <td>0.000000</td>\n",
       "      <td>1.000000</td>\n",
       "      <td>NaN</td>\n",
       "      <td>NaN</td>\n",
       "      <td>0.420000</td>\n",
       "      <td>0.000000</td>\n",
       "      <td>0.000000</td>\n",
       "      <td>NaN</td>\n",
       "      <td>0.000000</td>\n",
       "      <td>NaN</td>\n",
       "      <td>NaN</td>\n",
       "    </tr>\n",
       "    <tr>\n",
       "      <th>25%</th>\n",
       "      <td>223.500000</td>\n",
       "      <td>0.000000</td>\n",
       "      <td>2.000000</td>\n",
       "      <td>NaN</td>\n",
       "      <td>NaN</td>\n",
       "      <td>20.125000</td>\n",
       "      <td>0.000000</td>\n",
       "      <td>0.000000</td>\n",
       "      <td>NaN</td>\n",
       "      <td>7.910400</td>\n",
       "      <td>NaN</td>\n",
       "      <td>NaN</td>\n",
       "    </tr>\n",
       "    <tr>\n",
       "      <th>50%</th>\n",
       "      <td>446.000000</td>\n",
       "      <td>0.000000</td>\n",
       "      <td>3.000000</td>\n",
       "      <td>NaN</td>\n",
       "      <td>NaN</td>\n",
       "      <td>28.000000</td>\n",
       "      <td>0.000000</td>\n",
       "      <td>0.000000</td>\n",
       "      <td>NaN</td>\n",
       "      <td>14.454200</td>\n",
       "      <td>NaN</td>\n",
       "      <td>NaN</td>\n",
       "    </tr>\n",
       "    <tr>\n",
       "      <th>75%</th>\n",
       "      <td>668.500000</td>\n",
       "      <td>1.000000</td>\n",
       "      <td>3.000000</td>\n",
       "      <td>NaN</td>\n",
       "      <td>NaN</td>\n",
       "      <td>38.000000</td>\n",
       "      <td>1.000000</td>\n",
       "      <td>0.000000</td>\n",
       "      <td>NaN</td>\n",
       "      <td>31.000000</td>\n",
       "      <td>NaN</td>\n",
       "      <td>NaN</td>\n",
       "    </tr>\n",
       "    <tr>\n",
       "      <th>max</th>\n",
       "      <td>891.000000</td>\n",
       "      <td>1.000000</td>\n",
       "      <td>3.000000</td>\n",
       "      <td>NaN</td>\n",
       "      <td>NaN</td>\n",
       "      <td>80.000000</td>\n",
       "      <td>8.000000</td>\n",
       "      <td>6.000000</td>\n",
       "      <td>NaN</td>\n",
       "      <td>512.329200</td>\n",
       "      <td>NaN</td>\n",
       "      <td>NaN</td>\n",
       "    </tr>\n",
       "  </tbody>\n",
       "</table>\n",
       "</div>"
      ],
      "text/plain": [
       "        PassengerId    Survived      Pclass                     Name   Sex  \\\n",
       "count    891.000000  891.000000  891.000000                      891   891   \n",
       "unique          NaN         NaN         NaN                      891     2   \n",
       "top             NaN         NaN         NaN  Braund, Mr. Owen Harris  male   \n",
       "freq            NaN         NaN         NaN                        1   577   \n",
       "mean     446.000000    0.383838    2.308642                      NaN   NaN   \n",
       "std      257.353842    0.486592    0.836071                      NaN   NaN   \n",
       "min        1.000000    0.000000    1.000000                      NaN   NaN   \n",
       "25%      223.500000    0.000000    2.000000                      NaN   NaN   \n",
       "50%      446.000000    0.000000    3.000000                      NaN   NaN   \n",
       "75%      668.500000    1.000000    3.000000                      NaN   NaN   \n",
       "max      891.000000    1.000000    3.000000                      NaN   NaN   \n",
       "\n",
       "               Age       SibSp       Parch  Ticket        Fare    Cabin  \\\n",
       "count   714.000000  891.000000  891.000000     891  891.000000      204   \n",
       "unique         NaN         NaN         NaN     681         NaN      147   \n",
       "top            NaN         NaN         NaN  347082         NaN  B96 B98   \n",
       "freq           NaN         NaN         NaN       7         NaN        4   \n",
       "mean     29.699118    0.523008    0.381594     NaN   32.204208      NaN   \n",
       "std      14.526497    1.102743    0.806057     NaN   49.693429      NaN   \n",
       "min       0.420000    0.000000    0.000000     NaN    0.000000      NaN   \n",
       "25%      20.125000    0.000000    0.000000     NaN    7.910400      NaN   \n",
       "50%      28.000000    0.000000    0.000000     NaN   14.454200      NaN   \n",
       "75%      38.000000    1.000000    0.000000     NaN   31.000000      NaN   \n",
       "max      80.000000    8.000000    6.000000     NaN  512.329200      NaN   \n",
       "\n",
       "       Embarked  \n",
       "count       889  \n",
       "unique        3  \n",
       "top           S  \n",
       "freq        644  \n",
       "mean        NaN  \n",
       "std         NaN  \n",
       "min         NaN  \n",
       "25%         NaN  \n",
       "50%         NaN  \n",
       "75%         NaN  \n",
       "max         NaN  "
      ]
     },
     "execution_count": 5,
     "metadata": {},
     "output_type": "execute_result"
    }
   ],
   "source": [
    "dftrain.describe(include='all')"
   ]
  },
  {
   "cell_type": "code",
   "execution_count": 6,
   "id": "e93569df",
   "metadata": {
    "execution": {
     "iopub.execute_input": "2022-10-03T19:11:41.789606Z",
     "iopub.status.busy": "2022-10-03T19:11:41.789223Z",
     "iopub.status.idle": "2022-10-03T19:11:41.798968Z",
     "shell.execute_reply": "2022-10-03T19:11:41.797850Z"
    },
    "papermill": {
     "duration": 0.023729,
     "end_time": "2022-10-03T19:11:41.801395",
     "exception": false,
     "start_time": "2022-10-03T19:11:41.777666",
     "status": "completed"
    },
    "tags": []
   },
   "outputs": [
    {
     "data": {
      "text/plain": [
       "PassengerId      0\n",
       "Survived         0\n",
       "Pclass           0\n",
       "Name             0\n",
       "Sex              0\n",
       "Age            177\n",
       "SibSp            0\n",
       "Parch            0\n",
       "Ticket           0\n",
       "Fare             0\n",
       "Cabin          687\n",
       "Embarked         2\n",
       "dtype: int64"
      ]
     },
     "execution_count": 6,
     "metadata": {},
     "output_type": "execute_result"
    }
   ],
   "source": [
    "# Missed Values\n",
    "dftrain.isna().sum()"
   ]
  },
  {
   "cell_type": "code",
   "execution_count": 7,
   "id": "c4effb03",
   "metadata": {
    "execution": {
     "iopub.execute_input": "2022-10-03T19:11:41.823711Z",
     "iopub.status.busy": "2022-10-03T19:11:41.823321Z",
     "iopub.status.idle": "2022-10-03T19:11:41.830294Z",
     "shell.execute_reply": "2022-10-03T19:11:41.829199Z"
    },
    "papermill": {
     "duration": 0.021073,
     "end_time": "2022-10-03T19:11:41.832675",
     "exception": false,
     "start_time": "2022-10-03T19:11:41.811602",
     "status": "completed"
    },
    "tags": []
   },
   "outputs": [],
   "source": [
    "# Data Cleaning:\n",
    "dftrain.drop(columns=['Ticket','Cabin'],inplace=True)"
   ]
  },
  {
   "cell_type": "code",
   "execution_count": 8,
   "id": "e85c8d49",
   "metadata": {
    "execution": {
     "iopub.execute_input": "2022-10-03T19:11:41.854941Z",
     "iopub.status.busy": "2022-10-03T19:11:41.854007Z",
     "iopub.status.idle": "2022-10-03T19:11:41.860604Z",
     "shell.execute_reply": "2022-10-03T19:11:41.859647Z"
    },
    "papermill": {
     "duration": 0.019784,
     "end_time": "2022-10-03T19:11:41.862733",
     "exception": false,
     "start_time": "2022-10-03T19:11:41.842949",
     "status": "completed"
    },
    "tags": []
   },
   "outputs": [],
   "source": [
    "#replace missing values\n",
    "dftrain.Embarked= dftrain.Embarked.fillna(dftrain.Embarked.dropna().max())"
   ]
  },
  {
   "cell_type": "code",
   "execution_count": 9,
   "id": "d5f252dc",
   "metadata": {
    "execution": {
     "iopub.execute_input": "2022-10-03T19:11:41.884705Z",
     "iopub.status.busy": "2022-10-03T19:11:41.883941Z",
     "iopub.status.idle": "2022-10-03T19:11:41.894783Z",
     "shell.execute_reply": "2022-10-03T19:11:41.893671Z"
    },
    "papermill": {
     "duration": 0.024347,
     "end_time": "2022-10-03T19:11:41.897181",
     "exception": false,
     "start_time": "2022-10-03T19:11:41.872834",
     "status": "completed"
    },
    "tags": []
   },
   "outputs": [
    {
     "data": {
      "text/plain": [
       "0      0\n",
       "1      1\n",
       "2      1\n",
       "3      1\n",
       "4      0\n",
       "      ..\n",
       "886    0\n",
       "887    1\n",
       "888    1\n",
       "889    0\n",
       "890    0\n",
       "Name: Sex, Length: 891, dtype: int64"
      ]
     },
     "execution_count": 9,
     "metadata": {},
     "output_type": "execute_result"
    }
   ],
   "source": [
    "dftrain['Sex'] = dftrain['Sex'].map({'male': 0, 'female':1}).astype(int)\n",
    "dftrain['Sex']"
   ]
  },
  {
   "cell_type": "code",
   "execution_count": 10,
   "id": "cb2593c1",
   "metadata": {
    "execution": {
     "iopub.execute_input": "2022-10-03T19:11:41.919706Z",
     "iopub.status.busy": "2022-10-03T19:11:41.919301Z",
     "iopub.status.idle": "2022-10-03T19:11:41.946216Z",
     "shell.execute_reply": "2022-10-03T19:11:41.944755Z"
    },
    "papermill": {
     "duration": 0.041485,
     "end_time": "2022-10-03T19:11:41.948891",
     "exception": false,
     "start_time": "2022-10-03T19:11:41.907406",
     "status": "completed"
    },
    "tags": []
   },
   "outputs": [
    {
     "name": "stdout",
     "output_type": "stream",
     "text": [
      "[[40.  30.  25. ]\n",
      " [35.  28.  21.5]]\n"
     ]
    }
   ],
   "source": [
    "#replace missing ages with median, using sex and class\n",
    "guess_ages = np.zeros((2,3))\n",
    "for i in range(0, 2):\n",
    "    for j in range(0, 3):\n",
    "        guess_df = dftrain[(dftrain['Sex'] == i) & \\\n",
    "                           (dftrain['Pclass'] == j+1)]['Age'].dropna()\n",
    "        age_guess = guess_df.median()\n",
    "        # Convert random age float to nearest .5 age\n",
    "        guess_ages[i,j] = int( age_guess/0.5 + 0.5 ) * 0.5\n",
    "print(guess_ages)\n",
    "for i in range(0, 2):\n",
    "    for j in range(0, 3):\n",
    "        dftrain.loc[ (dftrain.Age.isnull()) & (dftrain.Sex == i) & (dftrain.Pclass == j+1),\\\n",
    "                'Age'] = guess_ages[i,j]\n",
    "dftrain['Age'] = dftrain['Age'].astype(int)"
   ]
  },
  {
   "cell_type": "code",
   "execution_count": 11,
   "id": "6a6969df",
   "metadata": {
    "execution": {
     "iopub.execute_input": "2022-10-03T19:11:41.970847Z",
     "iopub.status.busy": "2022-10-03T19:11:41.970435Z",
     "iopub.status.idle": "2022-10-03T19:11:41.981018Z",
     "shell.execute_reply": "2022-10-03T19:11:41.979851Z"
    },
    "papermill": {
     "duration": 0.024291,
     "end_time": "2022-10-03T19:11:41.983356",
     "exception": false,
     "start_time": "2022-10-03T19:11:41.959065",
     "status": "completed"
    },
    "tags": []
   },
   "outputs": [
    {
     "data": {
      "text/plain": [
       "PassengerId    0\n",
       "Survived       0\n",
       "Pclass         0\n",
       "Name           0\n",
       "Sex            0\n",
       "Age            0\n",
       "SibSp          0\n",
       "Parch          0\n",
       "Fare           0\n",
       "Embarked       0\n",
       "dtype: int64"
      ]
     },
     "execution_count": 11,
     "metadata": {},
     "output_type": "execute_result"
    }
   ],
   "source": [
    "dftrain.isnull().sum()"
   ]
  },
  {
   "cell_type": "code",
   "execution_count": 12,
   "id": "7e458ca1",
   "metadata": {
    "execution": {
     "iopub.execute_input": "2022-10-03T19:11:42.005540Z",
     "iopub.status.busy": "2022-10-03T19:11:42.005108Z",
     "iopub.status.idle": "2022-10-03T19:11:42.016886Z",
     "shell.execute_reply": "2022-10-03T19:11:42.015937Z"
    },
    "papermill": {
     "duration": 0.025323,
     "end_time": "2022-10-03T19:11:42.019009",
     "exception": false,
     "start_time": "2022-10-03T19:11:41.993686",
     "status": "completed"
    },
    "tags": []
   },
   "outputs": [
    {
     "data": {
      "text/plain": [
       "Survived       1.000000\n",
       "Sex            0.543351\n",
       "Fare           0.257307\n",
       "Parch          0.081629\n",
       "PassengerId   -0.005007\n",
       "SibSp         -0.035322\n",
       "Age           -0.060291\n",
       "Pclass        -0.338481\n",
       "Name: Survived, dtype: float64"
      ]
     },
     "execution_count": 12,
     "metadata": {},
     "output_type": "execute_result"
    }
   ],
   "source": [
    "#Correlation with the target:\n",
    "dftrain.corr()['Survived'].sort_values(ascending=False)"
   ]
  },
  {
   "cell_type": "code",
   "execution_count": 13,
   "id": "ca820eb7",
   "metadata": {
    "execution": {
     "iopub.execute_input": "2022-10-03T19:11:42.048927Z",
     "iopub.status.busy": "2022-10-03T19:11:42.047752Z",
     "iopub.status.idle": "2022-10-03T19:11:42.286479Z",
     "shell.execute_reply": "2022-10-03T19:11:42.285350Z"
    },
    "papermill": {
     "duration": 0.257929,
     "end_time": "2022-10-03T19:11:42.289008",
     "exception": false,
     "start_time": "2022-10-03T19:11:42.031079",
     "status": "completed"
    },
    "tags": []
   },
   "outputs": [
    {
     "data": {
      "text/plain": [
       "Text(0.5, 0, '%Survive')"
      ]
     },
     "execution_count": 13,
     "metadata": {},
     "output_type": "execute_result"
    },
    {
     "data": {
      "image/png": "[encoded data removed]",
      "text/plain": [
       "<Figure size 432x288 with 1 Axes>"
      ]
     },
     "metadata": {
      "needs_background": "light"
     },
     "output_type": "display_data"
    }
   ],
   "source": [
    "#Sex and Fare -> strong positive \n",
    "dftrain.groupby('Sex').Survived.mean().plot(kind='barh').set_xlabel('%Survive')"
   ]
  },
  {
   "cell_type": "code",
   "execution_count": 14,
   "id": "c068f1e9",
   "metadata": {
    "execution": {
     "iopub.execute_input": "2022-10-03T19:11:42.312443Z",
     "iopub.status.busy": "2022-10-03T19:11:42.312010Z",
     "iopub.status.idle": "2022-10-03T19:11:42.491071Z",
     "shell.execute_reply": "2022-10-03T19:11:42.490189Z"
    },
    "papermill": {
     "duration": 0.193559,
     "end_time": "2022-10-03T19:11:42.493279",
     "exception": false,
     "start_time": "2022-10-03T19:11:42.299720",
     "status": "completed"
    },
    "tags": []
   },
   "outputs": [
    {
     "data": {
      "text/plain": [
       "Text(0.5, 0, '%survive')"
      ]
     },
     "execution_count": 14,
     "metadata": {},
     "output_type": "execute_result"
    },
    {
     "data": {
      "image/png": "[encoded data removed]",
      "text/plain": [
       "<Figure size 432x288 with 1 Axes>"
      ]
     },
     "metadata": {
      "needs_background": "light"
     },
     "output_type": "display_data"
    }
   ],
   "source": [
    "##Pclass -> strong negative\n",
    "dftrain.groupby('Pclass').Survived.mean().plot(kind='barh').set_xlabel('%survive')"
   ]
  },
  {
   "cell_type": "code",
   "execution_count": 15,
   "id": "f167fb61",
   "metadata": {
    "execution": {
     "iopub.execute_input": "2022-10-03T19:11:42.518506Z",
     "iopub.status.busy": "2022-10-03T19:11:42.517174Z",
     "iopub.status.idle": "2022-10-03T19:11:42.522968Z",
     "shell.execute_reply": "2022-10-03T19:11:42.521904Z"
    },
    "papermill": {
     "duration": 0.020925,
     "end_time": "2022-10-03T19:11:42.525417",
     "exception": false,
     "start_time": "2022-10-03T19:11:42.504492",
     "status": "completed"
    },
    "tags": []
   },
   "outputs": [],
   "source": [
    "#PassengerId -> very weak "
   ]
  },
  {
   "cell_type": "code",
   "execution_count": 16,
   "id": "5a10121e",
   "metadata": {
    "execution": {
     "iopub.execute_input": "2022-10-03T19:11:42.549973Z",
     "iopub.status.busy": "2022-10-03T19:11:42.549219Z",
     "iopub.status.idle": "2022-10-03T19:11:43.240358Z",
     "shell.execute_reply": "2022-10-03T19:11:43.239004Z"
    },
    "papermill": {
     "duration": 0.706843,
     "end_time": "2022-10-03T19:11:43.243332",
     "exception": false,
     "start_time": "2022-10-03T19:11:42.536489",
     "status": "completed"
    },
    "tags": []
   },
   "outputs": [
    {
     "data": {
      "text/plain": [
       "<AxesSubplot:>"
      ]
     },
     "execution_count": 16,
     "metadata": {},
     "output_type": "execute_result"
    },
    {
     "data": {
      "image/png": "[encoded data removed]",
      "text/plain": [
       "<Figure size 720x432 with 2 Axes>"
      ]
     },
     "metadata": {},
     "output_type": "display_data"
    }
   ],
   "source": [
    "#correlation between all our features\n",
    "sns.set(rc = {'figure.figsize':(10,6)})\n",
    "sns.heatmap(dftrain.corr(), annot = True, fmt='.2g',cmap= 'YlGnBu')"
   ]
  },
  {
   "cell_type": "code",
   "execution_count": 17,
   "id": "7b583446",
   "metadata": {
    "execution": {
     "iopub.execute_input": "2022-10-03T19:11:43.269682Z",
     "iopub.status.busy": "2022-10-03T19:11:43.269300Z",
     "iopub.status.idle": "2022-10-03T19:11:43.284806Z",
     "shell.execute_reply": "2022-10-03T19:11:43.283666Z"
    },
    "papermill": {
     "duration": 0.03133,
     "end_time": "2022-10-03T19:11:43.287051",
     "exception": false,
     "start_time": "2022-10-03T19:11:43.255721",
     "status": "completed"
    },
    "tags": []
   },
   "outputs": [
    {
     "data": {
      "text/html": [
       "<div>\n",
       "<style scoped>\n",
       "    .dataframe tbody tr th:only-of-type {\n",
       "        vertical-align: middle;\n",
       "    }\n",
       "\n",
       "    .dataframe tbody tr th {\n",
       "        vertical-align: top;\n",
       "    }\n",
       "\n",
       "    .dataframe thead th {\n",
       "        text-align: right;\n",
       "    }\n",
       "</style>\n",
       "<table border=\"1\" class=\"dataframe\">\n",
       "  <thead>\n",
       "    <tr style=\"text-align: right;\">\n",
       "      <th></th>\n",
       "      <th>PassengerId</th>\n",
       "      <th>Survived</th>\n",
       "      <th>Pclass</th>\n",
       "      <th>Name</th>\n",
       "      <th>Sex</th>\n",
       "      <th>Age</th>\n",
       "      <th>SibSp</th>\n",
       "      <th>Parch</th>\n",
       "      <th>Fare</th>\n",
       "      <th>Embarked</th>\n",
       "    </tr>\n",
       "  </thead>\n",
       "  <tbody>\n",
       "    <tr>\n",
       "      <th>0</th>\n",
       "      <td>1</td>\n",
       "      <td>0</td>\n",
       "      <td>3</td>\n",
       "      <td>Braund, Mr. Owen Harris</td>\n",
       "      <td>0</td>\n",
       "      <td>22</td>\n",
       "      <td>1</td>\n",
       "      <td>0</td>\n",
       "      <td>7.2500</td>\n",
       "      <td>S</td>\n",
       "    </tr>\n",
       "    <tr>\n",
       "      <th>1</th>\n",
       "      <td>2</td>\n",
       "      <td>1</td>\n",
       "      <td>1</td>\n",
       "      <td>Cumings, Mrs. John Bradley (Florence Briggs Th...</td>\n",
       "      <td>1</td>\n",
       "      <td>38</td>\n",
       "      <td>1</td>\n",
       "      <td>0</td>\n",
       "      <td>71.2833</td>\n",
       "      <td>C</td>\n",
       "    </tr>\n",
       "    <tr>\n",
       "      <th>2</th>\n",
       "      <td>3</td>\n",
       "      <td>1</td>\n",
       "      <td>3</td>\n",
       "      <td>Heikkinen, Miss. Laina</td>\n",
       "      <td>1</td>\n",
       "      <td>26</td>\n",
       "      <td>0</td>\n",
       "      <td>0</td>\n",
       "      <td>7.9250</td>\n",
       "      <td>S</td>\n",
       "    </tr>\n",
       "    <tr>\n",
       "      <th>3</th>\n",
       "      <td>4</td>\n",
       "      <td>1</td>\n",
       "      <td>1</td>\n",
       "      <td>Futrelle, Mrs. Jacques Heath (Lily May Peel)</td>\n",
       "      <td>1</td>\n",
       "      <td>35</td>\n",
       "      <td>1</td>\n",
       "      <td>0</td>\n",
       "      <td>53.1000</td>\n",
       "      <td>S</td>\n",
       "    </tr>\n",
       "    <tr>\n",
       "      <th>4</th>\n",
       "      <td>5</td>\n",
       "      <td>0</td>\n",
       "      <td>3</td>\n",
       "      <td>Allen, Mr. William Henry</td>\n",
       "      <td>0</td>\n",
       "      <td>35</td>\n",
       "      <td>0</td>\n",
       "      <td>0</td>\n",
       "      <td>8.0500</td>\n",
       "      <td>S</td>\n",
       "    </tr>\n",
       "  </tbody>\n",
       "</table>\n",
       "</div>"
      ],
      "text/plain": [
       "   PassengerId  Survived  Pclass  \\\n",
       "0            1         0       3   \n",
       "1            2         1       1   \n",
       "2            3         1       3   \n",
       "3            4         1       1   \n",
       "4            5         0       3   \n",
       "\n",
       "                                                Name  Sex  Age  SibSp  Parch  \\\n",
       "0                            Braund, Mr. Owen Harris    0   22      1      0   \n",
       "1  Cumings, Mrs. John Bradley (Florence Briggs Th...    1   38      1      0   \n",
       "2                             Heikkinen, Miss. Laina    1   26      0      0   \n",
       "3       Futrelle, Mrs. Jacques Heath (Lily May Peel)    1   35      1      0   \n",
       "4                           Allen, Mr. William Henry    0   35      0      0   \n",
       "\n",
       "      Fare Embarked  \n",
       "0   7.2500        S  \n",
       "1  71.2833        C  \n",
       "2   7.9250        S  \n",
       "3  53.1000        S  \n",
       "4   8.0500        S  "
      ]
     },
     "execution_count": 17,
     "metadata": {},
     "output_type": "execute_result"
    }
   ],
   "source": [
    "dftrain.head()"
   ]
  },
  {
   "cell_type": "code",
   "execution_count": 18,
   "id": "2684e1d5",
   "metadata": {
    "execution": {
     "iopub.execute_input": "2022-10-03T19:11:43.314465Z",
     "iopub.status.busy": "2022-10-03T19:11:43.313352Z",
     "iopub.status.idle": "2022-10-03T19:11:43.321235Z",
     "shell.execute_reply": "2022-10-03T19:11:43.320075Z"
    },
    "papermill": {
     "duration": 0.023902,
     "end_time": "2022-10-03T19:11:43.323509",
     "exception": false,
     "start_time": "2022-10-03T19:11:43.299607",
     "status": "completed"
    },
    "tags": []
   },
   "outputs": [],
   "source": [
    "# Not alone data frame i.e. the passenger has either a sibling or a parent.\n",
    "dftrain['Family'] = dftrain.SibSp + dftrain.Parch\n",
    "dftrain['Alone'] = dftrain['Family'] ==0"
   ]
  },
  {
   "cell_type": "code",
   "execution_count": 19,
   "id": "61c5eeca",
   "metadata": {
    "execution": {
     "iopub.execute_input": "2022-10-03T19:11:43.350585Z",
     "iopub.status.busy": "2022-10-03T19:11:43.349431Z",
     "iopub.status.idle": "2022-10-03T19:11:43.637721Z",
     "shell.execute_reply": "2022-10-03T19:11:43.636837Z"
    },
    "papermill": {
     "duration": 0.304322,
     "end_time": "2022-10-03T19:11:43.640043",
     "exception": false,
     "start_time": "2022-10-03T19:11:43.335721",
     "status": "completed"
    },
    "tags": []
   },
   "outputs": [
    {
     "data": {
      "text/plain": [
       "Text(0.5, 0, '%survive')"
      ]
     },
     "execution_count": 19,
     "metadata": {},
     "output_type": "execute_result"
    },
    {
     "data": {
      "image/png": "[encoded data removed]",
      "text/plain": [
       "<Figure size 720x432 with 1 Axes>"
      ]
     },
     "metadata": {},
     "output_type": "display_data"
    }
   ],
   "source": [
    "dftrain.groupby(['Pclass','Alone']).Survived.mean().plot(kind='barh').set_xlabel('%survive')"
   ]
  },
  {
   "cell_type": "code",
   "execution_count": 20,
   "id": "edfa259f",
   "metadata": {
    "execution": {
     "iopub.execute_input": "2022-10-03T19:11:43.668046Z",
     "iopub.status.busy": "2022-10-03T19:11:43.667291Z",
     "iopub.status.idle": "2022-10-03T19:11:43.975852Z",
     "shell.execute_reply": "2022-10-03T19:11:43.974167Z"
    },
    "papermill": {
     "duration": 0.32535,
     "end_time": "2022-10-03T19:11:43.978270",
     "exception": false,
     "start_time": "2022-10-03T19:11:43.652920",
     "status": "completed"
    },
    "tags": []
   },
   "outputs": [
    {
     "data": {
      "text/plain": [
       "<AxesSubplot:>"
      ]
     },
     "execution_count": 20,
     "metadata": {},
     "output_type": "execute_result"
    },
    {
     "data": {
      "image/png": "[encoded data removed]",
      "text/plain": [
       "<Figure size 720x432 with 1 Axes>"
      ]
     },
     "metadata": {},
     "output_type": "display_data"
    }
   ],
   "source": [
    "dftrain.Age.hist(bins=20)"
   ]
  },
  {
   "cell_type": "code",
   "execution_count": 21,
   "id": "d55fc11a",
   "metadata": {
    "execution": {
     "iopub.execute_input": "2022-10-03T19:11:44.006231Z",
     "iopub.status.busy": "2022-10-03T19:11:44.005394Z",
     "iopub.status.idle": "2022-10-03T19:11:44.014812Z",
     "shell.execute_reply": "2022-10-03T19:11:44.013670Z"
    },
    "papermill": {
     "duration": 0.02597,
     "end_time": "2022-10-03T19:11:44.017135",
     "exception": false,
     "start_time": "2022-10-03T19:11:43.991165",
     "status": "completed"
    },
    "tags": []
   },
   "outputs": [
    {
     "data": {
      "text/plain": [
       "25    117\n",
       "21     66\n",
       "30     36\n",
       "40     36\n",
       "24     31\n",
       "     ... \n",
       "12      1\n",
       "53      1\n",
       "80      1\n",
       "66      1\n",
       "74      1\n",
       "Name: Age, Length: 71, dtype: int64"
      ]
     },
     "execution_count": 21,
     "metadata": {},
     "output_type": "execute_result"
    }
   ],
   "source": [
    "dftrain.Age.value_counts()"
   ]
  },
  {
   "cell_type": "code",
   "execution_count": 22,
   "id": "4d85fc53",
   "metadata": {
    "execution": {
     "iopub.execute_input": "2022-10-03T19:11:44.046058Z",
     "iopub.status.busy": "2022-10-03T19:11:44.044895Z",
     "iopub.status.idle": "2022-10-03T19:11:44.056879Z",
     "shell.execute_reply": "2022-10-03T19:11:44.055982Z"
    },
    "papermill": {
     "duration": 0.028968,
     "end_time": "2022-10-03T19:11:44.059349",
     "exception": false,
     "start_time": "2022-10-03T19:11:44.030381",
     "status": "completed"
    },
    "tags": []
   },
   "outputs": [],
   "source": [
    "#Age group:\n",
    "dftrain.loc[ dftrain['Age'] <= 16, 'Age'] = 0\n",
    "dftrain.loc[(dftrain['Age'] > 16) & (dftrain['Age'] <= 32), 'Age'] = 1\n",
    "dftrain.loc[(dftrain['Age'] > 32) & (dftrain['Age'] <= 48), 'Age'] = 2\n",
    "dftrain.loc[(dftrain['Age'] > 48) & (dftrain['Age'] <= 64), 'Age'] = 3\n",
    "dftrain.loc[ dftrain['Age'] > 64, 'Age'] = 4"
   ]
  },
  {
   "cell_type": "code",
   "execution_count": 23,
   "id": "ef0d4c7d",
   "metadata": {
    "execution": {
     "iopub.execute_input": "2022-10-03T19:11:44.087965Z",
     "iopub.status.busy": "2022-10-03T19:11:44.087191Z",
     "iopub.status.idle": "2022-10-03T19:11:44.397472Z",
     "shell.execute_reply": "2022-10-03T19:11:44.396110Z"
    },
    "papermill": {
     "duration": 0.327715,
     "end_time": "2022-10-03T19:11:44.400314",
     "exception": false,
     "start_time": "2022-10-03T19:11:44.072599",
     "status": "completed"
    },
    "tags": []
   },
   "outputs": [
    {
     "data": {
      "text/plain": [
       "Text(0.5, 0, '%survive')"
      ]
     },
     "execution_count": 23,
     "metadata": {},
     "output_type": "execute_result"
    },
    {
     "data": {
      "image/png": "[encoded data removed]",
      "text/plain": [
       "<Figure size 720x432 with 1 Axes>"
      ]
     },
     "metadata": {},
     "output_type": "display_data"
    }
   ],
   "source": [
    "dftrain.groupby(['Age','Alone']).Survived.mean().plot(kind='barh').set_xlabel('%survive')"
   ]
  },
  {
   "cell_type": "code",
   "execution_count": 24,
   "id": "b2d70a0a",
   "metadata": {
    "execution": {
     "iopub.execute_input": "2022-10-03T19:11:44.431266Z",
     "iopub.status.busy": "2022-10-03T19:11:44.430061Z",
     "iopub.status.idle": "2022-10-03T19:11:44.440482Z",
     "shell.execute_reply": "2022-10-03T19:11:44.439341Z"
    },
    "papermill": {
     "duration": 0.028645,
     "end_time": "2022-10-03T19:11:44.443100",
     "exception": false,
     "start_time": "2022-10-03T19:11:44.414455",
     "status": "completed"
    },
    "tags": []
   },
   "outputs": [
    {
     "data": {
      "text/plain": [
       "array([  7.25  ,  71.2833,   7.925 ,  53.1   ,   8.05  ,   8.4583,\n",
       "        51.8625,  21.075 ,  11.1333,  30.0708,  16.7   ,  26.55  ,\n",
       "        31.275 ,   7.8542,  16.    ,  29.125 ,  13.    ,  18.    ,\n",
       "         7.225 ,  26.    ,   8.0292,  35.5   ,  31.3875, 263.    ,\n",
       "         7.8792,   7.8958,  27.7208, 146.5208,   7.75  ,  10.5   ,\n",
       "        82.1708,  52.    ,   7.2292,  11.2417,   9.475 ,  21.    ,\n",
       "        41.5792,  15.5   ,  21.6792,  17.8   ,  39.6875,   7.8   ,\n",
       "        76.7292,  61.9792,  27.75  ,  46.9   ,  80.    ,  83.475 ,\n",
       "        27.9   ,  15.2458,   8.1583,   8.6625,  73.5   ,  14.4542,\n",
       "        56.4958,   7.65  ,  29.    ,  12.475 ,   9.    ,   9.5   ,\n",
       "         7.7875,  47.1   ,  15.85  ,  34.375 ,  61.175 ,  20.575 ,\n",
       "        34.6542,  63.3583,  23.    ,  77.2875,   8.6542,   7.775 ,\n",
       "        24.15  ,   9.825 ,  14.4583, 247.5208,   7.1417,  22.3583,\n",
       "         6.975 ,   7.05  ,  14.5   ,  15.0458,  26.2833,   9.2167,\n",
       "        79.2   ,   6.75  ,  11.5   ,  36.75  ,   7.7958,  12.525 ,\n",
       "        66.6   ,   7.3125,  61.3792,   7.7333,  69.55  ,  16.1   ,\n",
       "        15.75  ,  20.525 ,  55.    ,  25.925 ,  33.5   ,  30.6958,\n",
       "        25.4667,  28.7125,   0.    ,  15.05  ,  39.    ,  22.025 ,\n",
       "        50.    ,   8.4042,   6.4958,  10.4625,  18.7875,  31.    ,\n",
       "       113.275 ,  27.    ,  76.2917,  90.    ,   9.35  ,  13.5   ,\n",
       "         7.55  ,  26.25  ,  12.275 ,   7.125 ,  52.5542,  20.2125,\n",
       "        86.5   , 512.3292,  79.65  , 153.4625, 135.6333,  19.5   ,\n",
       "        29.7   ,  77.9583,  20.25  ,  78.85  ,  91.0792,  12.875 ,\n",
       "         8.85  , 151.55  ,  30.5   ,  23.25  ,  12.35  , 110.8833,\n",
       "       108.9   ,  24.    ,  56.9292,  83.1583, 262.375 ,  14.    ,\n",
       "       164.8667, 134.5   ,   6.2375,  57.9792,  28.5   , 133.65  ,\n",
       "        15.9   ,   9.225 ,  35.    ,  75.25  ,  69.3   ,  55.4417,\n",
       "       211.5   ,   4.0125, 227.525 ,  15.7417,   7.7292,  12.    ,\n",
       "       120.    ,  12.65  ,  18.75  ,   6.8583,  32.5   ,   7.875 ,\n",
       "        14.4   ,  55.9   ,   8.1125,  81.8583,  19.2583,  19.9667,\n",
       "        89.1042,  38.5   ,   7.725 ,  13.7917,   9.8375,   7.0458,\n",
       "         7.5208,  12.2875,   9.5875,  49.5042,  78.2667,  15.1   ,\n",
       "         7.6292,  22.525 ,  26.2875,  59.4   ,   7.4958,  34.0208,\n",
       "        93.5   , 221.7792, 106.425 ,  49.5   ,  71.    ,  13.8625,\n",
       "         7.8292,  39.6   ,  17.4   ,  51.4792,  26.3875,  30.    ,\n",
       "        40.125 ,   8.7125,  15.    ,  33.    ,  42.4   ,  15.55  ,\n",
       "        65.    ,  32.3208,   7.0542,   8.4333,  25.5875,   9.8417,\n",
       "         8.1375,  10.1708, 211.3375,  57.    ,  13.4167,   7.7417,\n",
       "         9.4833,   7.7375,   8.3625,  23.45  ,  25.9292,   8.6833,\n",
       "         8.5167,   7.8875,  37.0042,   6.45  ,   6.95  ,   8.3   ,\n",
       "         6.4375,  39.4   ,  14.1083,  13.8583,  50.4958,   5.    ,\n",
       "         9.8458,  10.5167])"
      ]
     },
     "execution_count": 24,
     "metadata": {},
     "output_type": "execute_result"
    }
   ],
   "source": [
    "dftrain.Fare.unique()"
   ]
  },
  {
   "cell_type": "code",
   "execution_count": 25,
   "id": "8b100a06",
   "metadata": {
    "execution": {
     "iopub.execute_input": "2022-10-03T19:11:44.473619Z",
     "iopub.status.busy": "2022-10-03T19:11:44.472946Z",
     "iopub.status.idle": "2022-10-03T19:11:44.483761Z",
     "shell.execute_reply": "2022-10-03T19:11:44.482616Z"
    },
    "papermill": {
     "duration": 0.029429,
     "end_time": "2022-10-03T19:11:44.486608",
     "exception": false,
     "start_time": "2022-10-03T19:11:44.457179",
     "status": "completed"
    },
    "tags": []
   },
   "outputs": [],
   "source": [
    "# Fare Group:\n",
    "dftrain.loc[ dftrain['Fare'] <= 130, 'Fare'] = 0\n",
    "dftrain.loc[(dftrain['Fare'] > 130) & (dftrain['Fare'] <= 256), 'Fare'] = 1\n",
    "dftrain.loc[(dftrain['Fare'] > 256) & (dftrain['Fare'] <= 384), 'Fare'] = 2\n",
    "dftrain.loc[ dftrain['Fare'] > 384, 'Fare'] = 3\n",
    "dftrain['Fare'] = dftrain['Fare'].astype(int)"
   ]
  },
  {
   "cell_type": "code",
   "execution_count": 26,
   "id": "e1b7b9bd",
   "metadata": {
    "execution": {
     "iopub.execute_input": "2022-10-03T19:11:44.517959Z",
     "iopub.status.busy": "2022-10-03T19:11:44.517569Z",
     "iopub.status.idle": "2022-10-03T19:11:44.767336Z",
     "shell.execute_reply": "2022-10-03T19:11:44.766202Z"
    },
    "papermill": {
     "duration": 0.267944,
     "end_time": "2022-10-03T19:11:44.769845",
     "exception": false,
     "start_time": "2022-10-03T19:11:44.501901",
     "status": "completed"
    },
    "tags": []
   },
   "outputs": [
    {
     "data": {
      "text/plain": [
       "Text(0.5, 0, '%Survive')"
      ]
     },
     "execution_count": 26,
     "metadata": {},
     "output_type": "execute_result"
    },
    {
     "data": {
      "image/png": "[encoded data removed]",
      "text/plain": [
       "<Figure size 720x432 with 1 Axes>"
      ]
     },
     "metadata": {},
     "output_type": "display_data"
    }
   ],
   "source": [
    "#Fare -> strong positive \n",
    "dftrain.groupby(['Fare']).Survived.mean().plot(kind='barh').set_xlabel('%Survive')"
   ]
  },
  {
   "cell_type": "code",
   "execution_count": 27,
   "id": "0479929d",
   "metadata": {
    "execution": {
     "iopub.execute_input": "2022-10-03T19:11:44.800131Z",
     "iopub.status.busy": "2022-10-03T19:11:44.799749Z",
     "iopub.status.idle": "2022-10-03T19:11:44.809649Z",
     "shell.execute_reply": "2022-10-03T19:11:44.808573Z"
    },
    "papermill": {
     "duration": 0.027914,
     "end_time": "2022-10-03T19:11:44.812114",
     "exception": false,
     "start_time": "2022-10-03T19:11:44.784200",
     "status": "completed"
    },
    "tags": []
   },
   "outputs": [
    {
     "data": {
      "text/plain": [
       "array(['Mr', 'Mrs', 'Miss', 'Master', 'Don', 'Rev', 'Dr', 'Mme', 'Ms',\n",
       "       'Major', 'Lady', 'Sir', 'Mlle', 'Col', 'Capt', 'Countess',\n",
       "       'Jonkheer'], dtype=object)"
      ]
     },
     "execution_count": 27,
     "metadata": {},
     "output_type": "execute_result"
    }
   ],
   "source": [
    "# Name Title\n",
    "dftrain['Title'] = dftrain.Name.str.extract(' ([A-Za-z]+)\\.', expand=False)\n",
    "dftrain.Title.unique()"
   ]
  },
  {
   "cell_type": "code",
   "execution_count": 28,
   "id": "3e489943",
   "metadata": {
    "execution": {
     "iopub.execute_input": "2022-10-03T19:11:44.844880Z",
     "iopub.status.busy": "2022-10-03T19:11:44.843963Z",
     "iopub.status.idle": "2022-10-03T19:11:44.858613Z",
     "shell.execute_reply": "2022-10-03T19:11:44.857520Z"
    },
    "papermill": {
     "duration": 0.033637,
     "end_time": "2022-10-03T19:11:44.861131",
     "exception": false,
     "start_time": "2022-10-03T19:11:44.827494",
     "status": "completed"
    },
    "tags": []
   },
   "outputs": [
    {
     "data": {
      "text/plain": [
       "array(['Mr', 'Mrs', 'Miss', 'Master', 'Rare-M', 'Rare-F'], dtype=object)"
      ]
     },
     "execution_count": 28,
     "metadata": {},
     "output_type": "execute_result"
    }
   ],
   "source": [
    "dftrain['Title'] = dftrain['Title'].replace('Mlle', 'Miss')\n",
    "dftrain['Title'] = dftrain['Title'].replace('Ms', 'Miss')\n",
    "dftrain['Title'] = dftrain['Title'].replace('Mme', 'Mrs')\n",
    "dftrain['Title'] = dftrain['Title'].replace(['Lady', 'Countess', 'Dona'], 'Rare-F')\n",
    "dftrain['Title'] = dftrain['Title'].replace(['Capt', 'Col',\\\n",
    "'Don', 'Dr', 'Major', 'Rev', 'Sir', 'Jonkheer'], 'Rare-M')\n",
    "dftrain.Title.unique()\n"
   ]
  },
  {
   "cell_type": "code",
   "execution_count": 29,
   "id": "ce7e0f69",
   "metadata": {
    "execution": {
     "iopub.execute_input": "2022-10-03T19:11:44.892571Z",
     "iopub.status.busy": "2022-10-03T19:11:44.892137Z",
     "iopub.status.idle": "2022-10-03T19:11:44.903663Z",
     "shell.execute_reply": "2022-10-03T19:11:44.902808Z"
    },
    "papermill": {
     "duration": 0.030053,
     "end_time": "2022-10-03T19:11:44.905948",
     "exception": false,
     "start_time": "2022-10-03T19:11:44.875895",
     "status": "completed"
    },
    "tags": []
   },
   "outputs": [
    {
     "data": {
      "text/plain": [
       "array([1, 3, 2, 4, 6, 5])"
      ]
     },
     "execution_count": 29,
     "metadata": {},
     "output_type": "execute_result"
    }
   ],
   "source": [
    "title_mapping = {\"Mr\": 1, \"Miss\": 2, \"Mrs\": 3, \"Master\": 4, \"Rare-F\": 5, \"Rare-M\": 6}\n",
    "dftrain['Title'] = dftrain['Title'].map(title_mapping)\n",
    "dftrain['Title'] = dftrain['Title'].fillna(0)\n",
    "dftrain.Title.unique()"
   ]
  },
  {
   "cell_type": "code",
   "execution_count": 30,
   "id": "da60056f",
   "metadata": {
    "execution": {
     "iopub.execute_input": "2022-10-03T19:11:44.939025Z",
     "iopub.status.busy": "2022-10-03T19:11:44.937821Z",
     "iopub.status.idle": "2022-10-03T19:11:44.944464Z",
     "shell.execute_reply": "2022-10-03T19:11:44.943657Z"
    },
    "papermill": {
     "duration": 0.025445,
     "end_time": "2022-10-03T19:11:44.946555",
     "exception": false,
     "start_time": "2022-10-03T19:11:44.921110",
     "status": "completed"
    },
    "tags": []
   },
   "outputs": [],
   "source": [
    "dftrain.drop(columns = [\"Name\"] , inplace = True)"
   ]
  },
  {
   "cell_type": "code",
   "execution_count": 31,
   "id": "daf11010",
   "metadata": {
    "execution": {
     "iopub.execute_input": "2022-10-03T19:11:44.978393Z",
     "iopub.status.busy": "2022-10-03T19:11:44.977548Z",
     "iopub.status.idle": "2022-10-03T19:11:44.986021Z",
     "shell.execute_reply": "2022-10-03T19:11:44.984826Z"
    },
    "papermill": {
     "duration": 0.026941,
     "end_time": "2022-10-03T19:11:44.988433",
     "exception": false,
     "start_time": "2022-10-03T19:11:44.961492",
     "status": "completed"
    },
    "tags": []
   },
   "outputs": [
    {
     "data": {
      "text/plain": [
       "array(['S', 'C', 'Q'], dtype=object)"
      ]
     },
     "execution_count": 31,
     "metadata": {},
     "output_type": "execute_result"
    }
   ],
   "source": [
    "dftrain.Embarked.unique()"
   ]
  },
  {
   "cell_type": "code",
   "execution_count": 32,
   "id": "5f3cc3c8",
   "metadata": {
    "execution": {
     "iopub.execute_input": "2022-10-03T19:11:45.021356Z",
     "iopub.status.busy": "2022-10-03T19:11:45.020909Z",
     "iopub.status.idle": "2022-10-03T19:11:45.029776Z",
     "shell.execute_reply": "2022-10-03T19:11:45.028908Z"
    },
    "papermill": {
     "duration": 0.027665,
     "end_time": "2022-10-03T19:11:45.031959",
     "exception": false,
     "start_time": "2022-10-03T19:11:45.004294",
     "status": "completed"
    },
    "tags": []
   },
   "outputs": [
    {
     "data": {
      "text/plain": [
       "array([0, 1, 2])"
      ]
     },
     "execution_count": 32,
     "metadata": {},
     "output_type": "execute_result"
    }
   ],
   "source": [
    "dftrain['Embarked'] = dftrain['Embarked'].map( {'S': 0, 'C': 1, 'Q': 2} ).astype(int)\n",
    "dftrain.Embarked.unique()"
   ]
  },
  {
   "cell_type": "code",
   "execution_count": 33,
   "id": "7a4d34c2",
   "metadata": {
    "execution": {
     "iopub.execute_input": "2022-10-03T19:11:45.064713Z",
     "iopub.status.busy": "2022-10-03T19:11:45.063694Z",
     "iopub.status.idle": "2022-10-03T19:11:45.079267Z",
     "shell.execute_reply": "2022-10-03T19:11:45.078120Z"
    },
    "papermill": {
     "duration": 0.034486,
     "end_time": "2022-10-03T19:11:45.081570",
     "exception": false,
     "start_time": "2022-10-03T19:11:45.047084",
     "status": "completed"
    },
    "tags": []
   },
   "outputs": [
    {
     "data": {
      "text/html": [
       "<div>\n",
       "<style scoped>\n",
       "    .dataframe tbody tr th:only-of-type {\n",
       "        vertical-align: middle;\n",
       "    }\n",
       "\n",
       "    .dataframe tbody tr th {\n",
       "        vertical-align: top;\n",
       "    }\n",
       "\n",
       "    .dataframe thead th {\n",
       "        text-align: right;\n",
       "    }\n",
       "</style>\n",
       "<table border=\"1\" class=\"dataframe\">\n",
       "  <thead>\n",
       "    <tr style=\"text-align: right;\">\n",
       "      <th></th>\n",
       "      <th>Survived</th>\n",
       "      <th>Pclass</th>\n",
       "      <th>Sex</th>\n",
       "      <th>Age</th>\n",
       "      <th>SibSp</th>\n",
       "      <th>Parch</th>\n",
       "      <th>Fare</th>\n",
       "      <th>Embarked</th>\n",
       "      <th>Family</th>\n",
       "      <th>Alone</th>\n",
       "      <th>Title</th>\n",
       "    </tr>\n",
       "  </thead>\n",
       "  <tbody>\n",
       "    <tr>\n",
       "      <th>0</th>\n",
       "      <td>0</td>\n",
       "      <td>3</td>\n",
       "      <td>0</td>\n",
       "      <td>1</td>\n",
       "      <td>1</td>\n",
       "      <td>0</td>\n",
       "      <td>0</td>\n",
       "      <td>0</td>\n",
       "      <td>1</td>\n",
       "      <td>False</td>\n",
       "      <td>1</td>\n",
       "    </tr>\n",
       "    <tr>\n",
       "      <th>1</th>\n",
       "      <td>1</td>\n",
       "      <td>1</td>\n",
       "      <td>1</td>\n",
       "      <td>2</td>\n",
       "      <td>1</td>\n",
       "      <td>0</td>\n",
       "      <td>0</td>\n",
       "      <td>1</td>\n",
       "      <td>1</td>\n",
       "      <td>False</td>\n",
       "      <td>3</td>\n",
       "    </tr>\n",
       "    <tr>\n",
       "      <th>2</th>\n",
       "      <td>1</td>\n",
       "      <td>3</td>\n",
       "      <td>1</td>\n",
       "      <td>1</td>\n",
       "      <td>0</td>\n",
       "      <td>0</td>\n",
       "      <td>0</td>\n",
       "      <td>0</td>\n",
       "      <td>0</td>\n",
       "      <td>True</td>\n",
       "      <td>2</td>\n",
       "    </tr>\n",
       "    <tr>\n",
       "      <th>3</th>\n",
       "      <td>1</td>\n",
       "      <td>1</td>\n",
       "      <td>1</td>\n",
       "      <td>2</td>\n",
       "      <td>1</td>\n",
       "      <td>0</td>\n",
       "      <td>0</td>\n",
       "      <td>0</td>\n",
       "      <td>1</td>\n",
       "      <td>False</td>\n",
       "      <td>3</td>\n",
       "    </tr>\n",
       "    <tr>\n",
       "      <th>4</th>\n",
       "      <td>0</td>\n",
       "      <td>3</td>\n",
       "      <td>0</td>\n",
       "      <td>2</td>\n",
       "      <td>0</td>\n",
       "      <td>0</td>\n",
       "      <td>0</td>\n",
       "      <td>0</td>\n",
       "      <td>0</td>\n",
       "      <td>True</td>\n",
       "      <td>1</td>\n",
       "    </tr>\n",
       "  </tbody>\n",
       "</table>\n",
       "</div>"
      ],
      "text/plain": [
       "   Survived  Pclass  Sex  Age  SibSp  Parch  Fare  Embarked  Family  Alone  \\\n",
       "0         0       3    0    1      1      0     0         0       1  False   \n",
       "1         1       1    1    2      1      0     0         1       1  False   \n",
       "2         1       3    1    1      0      0     0         0       0   True   \n",
       "3         1       1    1    2      1      0     0         0       1  False   \n",
       "4         0       3    0    2      0      0     0         0       0   True   \n",
       "\n",
       "   Title  \n",
       "0      1  \n",
       "1      3  \n",
       "2      2  \n",
       "3      3  \n",
       "4      1  "
      ]
     },
     "execution_count": 33,
     "metadata": {},
     "output_type": "execute_result"
    }
   ],
   "source": [
    "dftrain.drop(columns = [\"PassengerId\"] , inplace = True)\n",
    "dftrain.head()"
   ]
  },
  {
   "cell_type": "code",
   "execution_count": 34,
   "id": "5f4b7a1b",
   "metadata": {
    "execution": {
     "iopub.execute_input": "2022-10-03T19:11:45.113609Z",
     "iopub.status.busy": "2022-10-03T19:11:45.113199Z",
     "iopub.status.idle": "2022-10-03T19:11:45.123946Z",
     "shell.execute_reply": "2022-10-03T19:11:45.122844Z"
    },
    "papermill": {
     "duration": 0.029526,
     "end_time": "2022-10-03T19:11:45.126287",
     "exception": false,
     "start_time": "2022-10-03T19:11:45.096761",
     "status": "completed"
    },
    "tags": []
   },
   "outputs": [
    {
     "data": {
      "text/plain": [
       "Survived    1.000000\n",
       "Sex         0.543351\n",
       "Title       0.373139\n",
       "Fare        0.147466\n",
       "Embarked    0.106811\n",
       "Parch       0.081629\n",
       "Family      0.016639\n",
       "SibSp      -0.035322\n",
       "Age        -0.037059\n",
       "Alone      -0.203367\n",
       "Pclass     -0.338481\n",
       "Name: Survived, dtype: float64"
      ]
     },
     "execution_count": 34,
     "metadata": {},
     "output_type": "execute_result"
    }
   ],
   "source": [
    "dftrain.corr()[\"Survived\"].sort_values(ascending=False)\n"
   ]
  },
  {
   "cell_type": "code",
   "execution_count": 35,
   "id": "22884dac",
   "metadata": {
    "execution": {
     "iopub.execute_input": "2022-10-03T19:11:45.159586Z",
     "iopub.status.busy": "2022-10-03T19:11:45.158452Z",
     "iopub.status.idle": "2022-10-03T19:11:46.115046Z",
     "shell.execute_reply": "2022-10-03T19:11:46.113905Z"
    },
    "papermill": {
     "duration": 0.976231,
     "end_time": "2022-10-03T19:11:46.117905",
     "exception": false,
     "start_time": "2022-10-03T19:11:45.141674",
     "status": "completed"
    },
    "tags": []
   },
   "outputs": [
    {
     "data": {
      "text/plain": [
       "<AxesSubplot:>"
      ]
     },
     "execution_count": 35,
     "metadata": {},
     "output_type": "execute_result"
    },
    {
     "data": {
      "image/png": "[encoded data removed]",
      "text/plain": [
       "<Figure size 720x432 with 2 Axes>"
      ]
     },
     "metadata": {},
     "output_type": "display_data"
    }
   ],
   "source": [
    "sns.set(rc = {'figure.figsize':(10,6)})\n",
    "sns.heatmap(dftrain.corr(), annot = True, fmt='.2g',cmap= 'YlGnBu')"
   ]
  },
  {
   "cell_type": "code",
   "execution_count": 36,
   "id": "8ac17fc2",
   "metadata": {
    "execution": {
     "iopub.execute_input": "2022-10-03T19:11:46.156519Z",
     "iopub.status.busy": "2022-10-03T19:11:46.155909Z",
     "iopub.status.idle": "2022-10-03T19:11:46.225971Z",
     "shell.execute_reply": "2022-10-03T19:11:46.224369Z"
    },
    "papermill": {
     "duration": 0.093332,
     "end_time": "2022-10-03T19:11:46.229526",
     "exception": false,
     "start_time": "2022-10-03T19:11:46.136194",
     "status": "completed"
    },
    "tags": []
   },
   "outputs": [
    {
     "name": "stdout",
     "output_type": "stream",
     "text": [
      "Data shape before feature selection:\n",
      "(891, 11)\n",
      "Data shape After feature selection:\n",
      "(891, 8)\n"
     ]
    }
   ],
   "source": [
    "# ==========================================================================================\n",
    "# Feature Selection\n",
    "# We will select best 8 features\n",
    "# ==========================================================================================\n",
    "from sklearn.feature_selection import SelectKBest\n",
    "from sklearn.feature_selection import f_classif\n",
    "\n",
    "fs = SelectKBest(score_func=f_classif, k=8)\n",
    "\n",
    "print(\"Data shape before feature selection:\")\n",
    "print(dftrain.shape)\n",
    "\n",
    "# apply feature selection\n",
    "Selected_train_data = fs.fit_transform(dftrain.iloc[:,1:], dftrain[\"Survived\"])\n",
    "print(\"Data shape After feature selection:\")\n",
    "print(Selected_train_data.shape)\n"
   ]
  },
  {
   "cell_type": "code",
   "execution_count": 37,
   "id": "3ce874e2",
   "metadata": {
    "execution": {
     "iopub.execute_input": "2022-10-03T19:11:46.265296Z",
     "iopub.status.busy": "2022-10-03T19:11:46.264886Z",
     "iopub.status.idle": "2022-10-03T19:11:46.278177Z",
     "shell.execute_reply": "2022-10-03T19:11:46.276540Z"
    },
    "papermill": {
     "duration": 0.034937,
     "end_time": "2022-10-03T19:11:46.281584",
     "exception": false,
     "start_time": "2022-10-03T19:11:46.246647",
     "status": "completed"
    },
    "tags": []
   },
   "outputs": [
    {
     "name": "stdout",
     "output_type": "stream",
     "text": [
      "number of test samples : 268\n",
      "number of training samples: 623\n",
      "X_train shape is = (623, 10)\n",
      "Y_train shape is = (623,)\n"
     ]
    }
   ],
   "source": [
    "from sklearn.model_selection import train_test_split\n",
    "df=dftrain._get_numeric_data()\n",
    "y_data = df['Survived'] #target variable\n",
    "x_data = df.drop('Survived', axis=1)#the list of predictive variables\n",
    "x_train, x_test, y_train, y_test = train_test_split(x_data, y_data, test_size=0.30, random_state=1)\n",
    "\n",
    "print(\"number of test samples :\", x_test.shape[0])\n",
    "print(\"number of training samples:\",x_train.shape[0])\n",
    "print(f\"X_train shape is = {x_train.shape}\" )\n",
    "print(f\"Y_train shape is = {y_train.shape}\" )"
   ]
  },
  {
   "cell_type": "code",
   "execution_count": 38,
   "id": "0adddc1c",
   "metadata": {
    "execution": {
     "iopub.execute_input": "2022-10-03T19:11:46.317832Z",
     "iopub.status.busy": "2022-10-03T19:11:46.316974Z",
     "iopub.status.idle": "2022-10-03T19:11:46.324720Z",
     "shell.execute_reply": "2022-10-03T19:11:46.323457Z"
    },
    "papermill": {
     "duration": 0.028117,
     "end_time": "2022-10-03T19:11:46.327101",
     "exception": false,
     "start_time": "2022-10-03T19:11:46.298984",
     "status": "completed"
    },
    "tags": []
   },
   "outputs": [
    {
     "name": "stdout",
     "output_type": "stream",
     "text": [
      "Test shape is = (418, 10)\n"
     ]
    }
   ],
   "source": [
    "Test = dfeval.drop(labels = [\"PassengerId\"],axis = 1)\n",
    "print(f\"Test shape is = {Test.shape}\" )"
   ]
  }
 ],
 "metadata": {
  "kernelspec": {
   "display_name": "Python 3",
   "language": "python",
   "name": "python3"
  },
  "language_info": {
   "codemirror_mode": {
    "name": "ipython",
    "version": 3
   },
   "file_extension": ".py",
   "mimetype": "text/x-python",
   "name": "python",
   "nbconvert_exporter": "python",
   "pygments_lexer": "ipython3",
   "version": "3.7.12"
  },
  "papermill": {
   "default_parameters": {},
   "duration": 15.830234,
   "end_time": "2022-10-03T19:11:47.166851",
   "environment_variables": {},
   "exception": null,
   "input_path": "__notebook__.ipynb",
   "output_path": "__notebook__.ipynb",
   "parameters": {},
   "start_time": "2022-10-03T19:11:31.336617",
   "version": "2.3.4"
  }
 },
 "nbformat": 4,
 "nbformat_minor": 5
}
