{
 "cells": [
  {
   "cell_type": "code",
   "execution_count": 1,
   "id": "b7570a60",
   "metadata": {
    "_cell_guid": "b1076dfc-b9ad-4769-8c92-a6c4dae69d19",
    "_uuid": "8f2839f25d086af736a60e9eeb907d3b93b6e0e5",
    "execution": {
     "iopub.execute_input": "2022-10-22T22:01:46.286349Z",
     "iopub.status.busy": "2022-10-22T22:01:46.285632Z",
     "iopub.status.idle": "2022-10-22T22:01:47.711355Z",
     "shell.execute_reply": "2022-10-22T22:01:47.710010Z"
    },
    "papermill": {
     "duration": 1.44738,
     "end_time": "2022-10-22T22:01:47.714828",
     "exception": false,
     "start_time": "2022-10-22T22:01:46.267448",
     "status": "completed"
    },
    "tags": []
   },
   "outputs": [
    {
     "name": "stdout",
     "output_type": "stream",
     "text": [
      "/kaggle/input/titanic/train.csv\n",
      "/kaggle/input/titanic/test.csv\n",
      "/kaggle/input/titanic/gender_submission.csv\n"
     ]
    }
   ],
   "source": [
    "# This Python 3 environment comes with many helpful analytics libraries installed\n",
    "# It is defined by the kaggle/python Docker image: https://github.com/kaggle/docker-python\n",
    "# For example, here's several helpful packages to load\n",
    "\n",
    "import numpy as np # linear algebra\n",
    "import pandas as pd # data processing, CSV file I/O (e.g. pd.read_csv)\n",
    "import matplotlib.pyplot as plt\n",
    "import seaborn as sns\n",
    "from scipy import stats \n",
    "from sklearn.ensemble import RandomForestRegressor\n",
    "from sklearn.metrics import mean_absolute_error\n",
    "from sklearn.model_selection import train_test_split\n",
    "from sklearn.pipeline import Pipeline\n",
    "from sklearn.tree import DecisionTreeRegressor\n",
    "\n",
    "%matplotlib inline\n",
    "\n",
    "# Input data files are available in the read-only \"../input/\" directory\n",
    "# For example, running this (by clicking run or pressing Shift+Enter) will list all files under the input directory\n",
    "\n",
    "import os\n",
    "for dirname, _, filenames in os.walk('/kaggle/input'):\n",
    "    for filename in filenames:\n",
    "        print(os.path.join(dirname, filename))\n",
    "\n",
    "# You can write up to 20GB to the current directory (/kaggle/working/) that gets preserved as output when you create a version using \"Save & Run All\" \n",
    "# You can also write temporary files to /kaggle/temp/, but they won't be saved outside of the current session"
   ]
  },
  {
   "cell_type": "code",
   "execution_count": 2,
   "id": "a56f813f",
   "metadata": {
    "execution": {
     "iopub.execute_input": "2022-10-22T22:01:47.752464Z",
     "iopub.status.busy": "2022-10-22T22:01:47.751760Z",
     "iopub.status.idle": "2022-10-22T22:01:47.787015Z",
     "shell.execute_reply": "2022-10-22T22:01:47.786039Z"
    },
    "papermill": {
     "duration": 0.056858,
     "end_time": "2022-10-22T22:01:47.789574",
     "exception": false,
     "start_time": "2022-10-22T22:01:47.732716",
     "status": "completed"
    },
    "tags": []
   },
   "outputs": [],
   "source": [
    "dftrain = pd.read_csv('../input/titanic/train.csv')\n",
    "dfeval  = pd.read_csv('../input/titanic/test.csv')\n",
    "combine = [dftrain , dfeval]"
   ]
  },
  {
   "cell_type": "code",
   "execution_count": 3,
   "id": "fdf5f4ab",
   "metadata": {
    "execution": {
     "iopub.execute_input": "2022-10-22T22:01:47.822435Z",
     "iopub.status.busy": "2022-10-22T22:01:47.821726Z",
     "iopub.status.idle": "2022-10-22T22:01:47.847119Z",
     "shell.execute_reply": "2022-10-22T22:01:47.845882Z"
    },
    "papermill": {
     "duration": 0.044551,
     "end_time": "2022-10-22T22:01:47.849596",
     "exception": false,
     "start_time": "2022-10-22T22:01:47.805045",
     "status": "completed"
    },
    "tags": []
   },
   "outputs": [
    {
     "data": {
      "text/html": [
       "<div>\n",
       "<style scoped>\n",
       "    .dataframe tbody tr th:only-of-type {\n",
       "        vertical-align: middle;\n",
       "    }\n",
       "\n",
       "    .dataframe tbody tr th {\n",
       "        vertical-align: top;\n",
       "    }\n",
       "\n",
       "    .dataframe thead th {\n",
       "        text-align: right;\n",
       "    }\n",
       "</style>\n",
       "<table border=\"1\" class=\"dataframe\">\n",
       "  <thead>\n",
       "    <tr style=\"text-align: right;\">\n",
       "      <th></th>\n",
       "      <th>PassengerId</th>\n",
       "      <th>Survived</th>\n",
       "      <th>Pclass</th>\n",
       "      <th>Name</th>\n",
       "      <th>Sex</th>\n",
       "      <th>Age</th>\n",
       "      <th>SibSp</th>\n",
       "      <th>Parch</th>\n",
       "      <th>Ticket</th>\n",
       "      <th>Fare</th>\n",
       "      <th>Cabin</th>\n",
       "      <th>Embarked</th>\n",
       "    </tr>\n",
       "  </thead>\n",
       "  <tbody>\n",
       "    <tr>\n",
       "      <th>0</th>\n",
       "      <td>1</td>\n",
       "      <td>0</td>\n",
       "      <td>3</td>\n",
       "      <td>Braund, Mr. Owen Harris</td>\n",
       "      <td>male</td>\n",
       "      <td>22.0</td>\n",
       "      <td>1</td>\n",
       "      <td>0</td>\n",
       "      <td>A/5 21171</td>\n",
       "      <td>7.2500</td>\n",
       "      <td>NaN</td>\n",
       "      <td>S</td>\n",
       "    </tr>\n",
       "    <tr>\n",
       "      <th>1</th>\n",
       "      <td>2</td>\n",
       "      <td>1</td>\n",
       "      <td>1</td>\n",
       "      <td>Cumings, Mrs. John Bradley (Florence Briggs Th...</td>\n",
       "      <td>female</td>\n",
       "      <td>38.0</td>\n",
       "      <td>1</td>\n",
       "      <td>0</td>\n",
       "      <td>PC 17599</td>\n",
       "      <td>71.2833</td>\n",
       "      <td>C85</td>\n",
       "      <td>C</td>\n",
       "    </tr>\n",
       "    <tr>\n",
       "      <th>2</th>\n",
       "      <td>3</td>\n",
       "      <td>1</td>\n",
       "      <td>3</td>\n",
       "      <td>Heikkinen, Miss. Laina</td>\n",
       "      <td>female</td>\n",
       "      <td>26.0</td>\n",
       "      <td>0</td>\n",
       "      <td>0</td>\n",
       "      <td>STON/O2. 3101282</td>\n",
       "      <td>7.9250</td>\n",
       "      <td>NaN</td>\n",
       "      <td>S</td>\n",
       "    </tr>\n",
       "    <tr>\n",
       "      <th>3</th>\n",
       "      <td>4</td>\n",
       "      <td>1</td>\n",
       "      <td>1</td>\n",
       "      <td>Futrelle, Mrs. Jacques Heath (Lily May Peel)</td>\n",
       "      <td>female</td>\n",
       "      <td>35.0</td>\n",
       "      <td>1</td>\n",
       "      <td>0</td>\n",
       "      <td>113803</td>\n",
       "      <td>53.1000</td>\n",
       "      <td>C123</td>\n",
       "      <td>S</td>\n",
       "    </tr>\n",
       "    <tr>\n",
       "      <th>4</th>\n",
       "      <td>5</td>\n",
       "      <td>0</td>\n",
       "      <td>3</td>\n",
       "      <td>Allen, Mr. William Henry</td>\n",
       "      <td>male</td>\n",
       "      <td>35.0</td>\n",
       "      <td>0</td>\n",
       "      <td>0</td>\n",
       "      <td>373450</td>\n",
       "      <td>8.0500</td>\n",
       "      <td>NaN</td>\n",
       "      <td>S</td>\n",
       "    </tr>\n",
       "  </tbody>\n",
       "</table>\n",
       "</div>"
      ],
      "text/plain": [
       "   PassengerId  Survived  Pclass  \\\n",
       "0            1         0       3   \n",
       "1            2         1       1   \n",
       "2            3         1       3   \n",
       "3            4         1       1   \n",
       "4            5         0       3   \n",
       "\n",
       "                                                Name     Sex   Age  SibSp  \\\n",
       "0                            Braund, Mr. Owen Harris    male  22.0      1   \n",
       "1  Cumings, Mrs. John Bradley (Florence Briggs Th...  female  38.0      1   \n",
       "2                             Heikkinen, Miss. Laina  female  26.0      0   \n",
       "3       Futrelle, Mrs. Jacques Heath (Lily May Peel)  female  35.0      1   \n",
       "4                           Allen, Mr. William Henry    male  35.0      0   \n",
       "\n",
       "   Parch            Ticket     Fare Cabin Embarked  \n",
       "0      0         A/5 21171   7.2500   NaN        S  \n",
       "1      0          PC 17599  71.2833   C85        C  \n",
       "2      0  STON/O2. 3101282   7.9250   NaN        S  \n",
       "3      0            113803  53.1000  C123        S  \n",
       "4      0            373450   8.0500   NaN        S  "
      ]
     },
     "execution_count": 3,
     "metadata": {},
     "output_type": "execute_result"
    }
   ],
   "source": [
    "dftrain.head()"
   ]
  },
  {
   "cell_type": "code",
   "execution_count": 4,
   "id": "c31f0b8a",
   "metadata": {
    "execution": {
     "iopub.execute_input": "2022-10-22T22:01:47.883216Z",
     "iopub.status.busy": "2022-10-22T22:01:47.882797Z",
     "iopub.status.idle": "2022-10-22T22:01:47.907359Z",
     "shell.execute_reply": "2022-10-22T22:01:47.906082Z"
    },
    "papermill": {
     "duration": 0.04472,
     "end_time": "2022-10-22T22:01:47.909886",
     "exception": false,
     "start_time": "2022-10-22T22:01:47.865166",
     "status": "completed"
    },
    "tags": []
   },
   "outputs": [
    {
     "name": "stdout",
     "output_type": "stream",
     "text": [
      "Train Data Info\n",
      "<class 'pandas.core.frame.DataFrame'>\n",
      "RangeIndex: 891 entries, 0 to 890\n",
      "Data columns (total 12 columns):\n",
      " #   Column       Non-Null Count  Dtype  \n",
      "---  ------       --------------  -----  \n",
      " 0   PassengerId  891 non-null    int64  \n",
      " 1   Survived     891 non-null    int64  \n",
      " 2   Pclass       891 non-null    int64  \n",
      " 3   Name         891 non-null    object \n",
      " 4   Sex          891 non-null    object \n",
      " 5   Age          714 non-null    float64\n",
      " 6   SibSp        891 non-null    int64  \n",
      " 7   Parch        891 non-null    int64  \n",
      " 8   Ticket       891 non-null    object \n",
      " 9   Fare         891 non-null    float64\n",
      " 10  Cabin        204 non-null    object \n",
      " 11  Embarked     889 non-null    object \n",
      "dtypes: float64(2), int64(5), object(5)\n",
      "memory usage: 83.7+ KB\n"
     ]
    }
   ],
   "source": [
    "print('Train Data Info')\n",
    "dftrain.info()"
   ]
  },
  {
   "cell_type": "code",
   "execution_count": 5,
   "id": "15ee8ac3",
   "metadata": {
    "execution": {
     "iopub.execute_input": "2022-10-22T22:01:47.942354Z",
     "iopub.status.busy": "2022-10-22T22:01:47.941982Z",
     "iopub.status.idle": "2022-10-22T22:01:47.980048Z",
     "shell.execute_reply": "2022-10-22T22:01:47.978799Z"
    },
    "papermill": {
     "duration": 0.057351,
     "end_time": "2022-10-22T22:01:47.982656",
     "exception": false,
     "start_time": "2022-10-22T22:01:47.925305",
     "status": "completed"
    },
    "tags": []
   },
   "outputs": [
    {
     "data": {
      "text/html": [
       "<div>\n",
       "<style scoped>\n",
       "    .dataframe tbody tr th:only-of-type {\n",
       "        vertical-align: middle;\n",
       "    }\n",
       "\n",
       "    .dataframe tbody tr th {\n",
       "        vertical-align: top;\n",
       "    }\n",
       "\n",
       "    .dataframe thead th {\n",
       "        text-align: right;\n",
       "    }\n",
       "</style>\n",
       "<table border=\"1\" class=\"dataframe\">\n",
       "  <thead>\n",
       "    <tr style=\"text-align: right;\">\n",
       "      <th></th>\n",
       "      <th>PassengerId</th>\n",
       "      <th>Survived</th>\n",
       "      <th>Pclass</th>\n",
       "      <th>Age</th>\n",
       "      <th>SibSp</th>\n",
       "      <th>Parch</th>\n",
       "      <th>Fare</th>\n",
       "    </tr>\n",
       "  </thead>\n",
       "  <tbody>\n",
       "    <tr>\n",
       "      <th>count</th>\n",
       "      <td>891.000000</td>\n",
       "      <td>891.000000</td>\n",
       "      <td>891.000000</td>\n",
       "      <td>714.000000</td>\n",
       "      <td>891.000000</td>\n",
       "      <td>891.000000</td>\n",
       "      <td>891.000000</td>\n",
       "    </tr>\n",
       "    <tr>\n",
       "      <th>mean</th>\n",
       "      <td>446.000000</td>\n",
       "      <td>0.383838</td>\n",
       "      <td>2.308642</td>\n",
       "      <td>29.699118</td>\n",
       "      <td>0.523008</td>\n",
       "      <td>0.381594</td>\n",
       "      <td>32.204208</td>\n",
       "    </tr>\n",
       "    <tr>\n",
       "      <th>std</th>\n",
       "      <td>257.353842</td>\n",
       "      <td>0.486592</td>\n",
       "      <td>0.836071</td>\n",
       "      <td>14.526497</td>\n",
       "      <td>1.102743</td>\n",
       "      <td>0.806057</td>\n",
       "      <td>49.693429</td>\n",
       "    </tr>\n",
       "    <tr>\n",
       "      <th>min</th>\n",
       "      <td>1.000000</td>\n",
       "      <td>0.000000</td>\n",
       "      <td>1.000000</td>\n",
       "      <td>0.420000</td>\n",
       "      <td>0.000000</td>\n",
       "      <td>0.000000</td>\n",
       "      <td>0.000000</td>\n",
       "    </tr>\n",
       "    <tr>\n",
       "      <th>25%</th>\n",
       "      <td>223.500000</td>\n",
       "      <td>0.000000</td>\n",
       "      <td>2.000000</td>\n",
       "      <td>20.125000</td>\n",
       "      <td>0.000000</td>\n",
       "      <td>0.000000</td>\n",
       "      <td>7.910400</td>\n",
       "    </tr>\n",
       "    <tr>\n",
       "      <th>50%</th>\n",
       "      <td>446.000000</td>\n",
       "      <td>0.000000</td>\n",
       "      <td>3.000000</td>\n",
       "      <td>28.000000</td>\n",
       "      <td>0.000000</td>\n",
       "      <td>0.000000</td>\n",
       "      <td>14.454200</td>\n",
       "    </tr>\n",
       "    <tr>\n",
       "      <th>75%</th>\n",
       "      <td>668.500000</td>\n",
       "      <td>1.000000</td>\n",
       "      <td>3.000000</td>\n",
       "      <td>38.000000</td>\n",
       "      <td>1.000000</td>\n",
       "      <td>0.000000</td>\n",
       "      <td>31.000000</td>\n",
       "    </tr>\n",
       "    <tr>\n",
       "      <th>max</th>\n",
       "      <td>891.000000</td>\n",
       "      <td>1.000000</td>\n",
       "      <td>3.000000</td>\n",
       "      <td>80.000000</td>\n",
       "      <td>8.000000</td>\n",
       "      <td>6.000000</td>\n",
       "      <td>512.329200</td>\n",
       "    </tr>\n",
       "  </tbody>\n",
       "</table>\n",
       "</div>"
      ],
      "text/plain": [
       "       PassengerId    Survived      Pclass         Age       SibSp  \\\n",
       "count   891.000000  891.000000  891.000000  714.000000  891.000000   \n",
       "mean    446.000000    0.383838    2.308642   29.699118    0.523008   \n",
       "std     257.353842    0.486592    0.836071   14.526497    1.102743   \n",
       "min       1.000000    0.000000    1.000000    0.420000    0.000000   \n",
       "25%     223.500000    0.000000    2.000000   20.125000    0.000000   \n",
       "50%     446.000000    0.000000    3.000000   28.000000    0.000000   \n",
       "75%     668.500000    1.000000    3.000000   38.000000    1.000000   \n",
       "max     891.000000    1.000000    3.000000   80.000000    8.000000   \n",
       "\n",
       "            Parch        Fare  \n",
       "count  891.000000  891.000000  \n",
       "mean     0.381594   32.204208  \n",
       "std      0.806057   49.693429  \n",
       "min      0.000000    0.000000  \n",
       "25%      0.000000    7.910400  \n",
       "50%      0.000000   14.454200  \n",
       "75%      0.000000   31.000000  \n",
       "max      6.000000  512.329200  "
      ]
     },
     "execution_count": 5,
     "metadata": {},
     "output_type": "execute_result"
    }
   ],
   "source": [
    "dftrain.describe()"
   ]
  },
  {
   "cell_type": "code",
   "execution_count": 6,
   "id": "1cf2a9f9",
   "metadata": {
    "execution": {
     "iopub.execute_input": "2022-10-22T22:01:48.015958Z",
     "iopub.status.busy": "2022-10-22T22:01:48.015478Z",
     "iopub.status.idle": "2022-10-22T22:01:48.039638Z",
     "shell.execute_reply": "2022-10-22T22:01:48.038403Z"
    },
    "papermill": {
     "duration": 0.043792,
     "end_time": "2022-10-22T22:01:48.041959",
     "exception": false,
     "start_time": "2022-10-22T22:01:47.998167",
     "status": "completed"
    },
    "tags": []
   },
   "outputs": [
    {
     "data": {
      "text/html": [
       "<div>\n",
       "<style scoped>\n",
       "    .dataframe tbody tr th:only-of-type {\n",
       "        vertical-align: middle;\n",
       "    }\n",
       "\n",
       "    .dataframe tbody tr th {\n",
       "        vertical-align: top;\n",
       "    }\n",
       "\n",
       "    .dataframe thead th {\n",
       "        text-align: right;\n",
       "    }\n",
       "</style>\n",
       "<table border=\"1\" class=\"dataframe\">\n",
       "  <thead>\n",
       "    <tr style=\"text-align: right;\">\n",
       "      <th></th>\n",
       "      <th>Name</th>\n",
       "      <th>Sex</th>\n",
       "      <th>Ticket</th>\n",
       "      <th>Cabin</th>\n",
       "      <th>Embarked</th>\n",
       "    </tr>\n",
       "  </thead>\n",
       "  <tbody>\n",
       "    <tr>\n",
       "      <th>count</th>\n",
       "      <td>891</td>\n",
       "      <td>891</td>\n",
       "      <td>891</td>\n",
       "      <td>204</td>\n",
       "      <td>889</td>\n",
       "    </tr>\n",
       "    <tr>\n",
       "      <th>unique</th>\n",
       "      <td>891</td>\n",
       "      <td>2</td>\n",
       "      <td>681</td>\n",
       "      <td>147</td>\n",
       "      <td>3</td>\n",
       "    </tr>\n",
       "    <tr>\n",
       "      <th>top</th>\n",
       "      <td>Braund, Mr. Owen Harris</td>\n",
       "      <td>male</td>\n",
       "      <td>347082</td>\n",
       "      <td>B96 B98</td>\n",
       "      <td>S</td>\n",
       "    </tr>\n",
       "    <tr>\n",
       "      <th>freq</th>\n",
       "      <td>1</td>\n",
       "      <td>577</td>\n",
       "      <td>7</td>\n",
       "      <td>4</td>\n",
       "      <td>644</td>\n",
       "    </tr>\n",
       "  </tbody>\n",
       "</table>\n",
       "</div>"
      ],
      "text/plain": [
       "                           Name   Sex  Ticket    Cabin Embarked\n",
       "count                       891   891     891      204      889\n",
       "unique                      891     2     681      147        3\n",
       "top     Braund, Mr. Owen Harris  male  347082  B96 B98        S\n",
       "freq                          1   577       7        4      644"
      ]
     },
     "execution_count": 6,
     "metadata": {},
     "output_type": "execute_result"
    }
   ],
   "source": [
    "dftrain.describe(include=['O'])"
   ]
  },
  {
   "cell_type": "code",
   "execution_count": 7,
   "id": "e65ca755",
   "metadata": {
    "execution": {
     "iopub.execute_input": "2022-10-22T22:01:48.075942Z",
     "iopub.status.busy": "2022-10-22T22:01:48.074943Z",
     "iopub.status.idle": "2022-10-22T22:01:48.087135Z",
     "shell.execute_reply": "2022-10-22T22:01:48.085896Z"
    },
    "papermill": {
     "duration": 0.032451,
     "end_time": "2022-10-22T22:01:48.090388",
     "exception": false,
     "start_time": "2022-10-22T22:01:48.057937",
     "status": "completed"
    },
    "tags": []
   },
   "outputs": [
    {
     "name": "stdout",
     "output_type": "stream",
     "text": [
      "Train Missed Values\n",
      "PassengerId      0\n",
      "Survived         0\n",
      "Pclass           0\n",
      "Name             0\n",
      "Sex              0\n",
      "Age            177\n",
      "SibSp            0\n",
      "Parch            0\n",
      "Ticket           0\n",
      "Fare             0\n",
      "Cabin          687\n",
      "Embarked         2\n",
      "dtype: int64\n",
      "\n",
      "Eval Missed Values\n",
      "PassengerId      0\n",
      "Pclass           0\n",
      "Name             0\n",
      "Sex              0\n",
      "Age             86\n",
      "SibSp            0\n",
      "Parch            0\n",
      "Ticket           0\n",
      "Fare             1\n",
      "Cabin          327\n",
      "Embarked         0\n",
      "dtype: int64\n"
     ]
    }
   ],
   "source": [
    "# Missed Values\n",
    "print('Train Missed Values')\n",
    "print(dftrain.isna().sum())\n",
    "print('\\nEval Missed Values')\n",
    "print(dfeval.isna().sum())"
   ]
  },
  {
   "cell_type": "code",
   "execution_count": 8,
   "id": "fe148a0e",
   "metadata": {
    "execution": {
     "iopub.execute_input": "2022-10-22T22:01:48.124611Z",
     "iopub.status.busy": "2022-10-22T22:01:48.124182Z",
     "iopub.status.idle": "2022-10-22T22:01:48.279717Z",
     "shell.execute_reply": "2022-10-22T22:01:48.278500Z"
    },
    "papermill": {
     "duration": 0.175006,
     "end_time": "2022-10-22T22:01:48.282035",
     "exception": false,
     "start_time": "2022-10-22T22:01:48.107029",
     "status": "completed"
    },
    "tags": []
   },
   "outputs": [
    {
     "data": {
      "text/plain": [
       "<AxesSubplot:>"
      ]
     },
     "execution_count": 8,
     "metadata": {},
     "output_type": "execute_result"
    },
    {
     "data": {
      "image/png": "[encoded data removed]",
      "text/plain": [
       "<Figure size 432x288 with 1 Axes>"
      ]
     },
     "metadata": {},
     "output_type": "display_data"
    }
   ],
   "source": [
    "#Survived\n",
    "dftrain['Survived'].replace({0:\"Died\",1:\"Survived\"}).value_counts().plot.pie(shadow=True,ylabel='')"
   ]
  },
  {
   "cell_type": "code",
   "execution_count": 9,
   "id": "38d29338",
   "metadata": {
    "execution": {
     "iopub.execute_input": "2022-10-22T22:01:48.316719Z",
     "iopub.status.busy": "2022-10-22T22:01:48.316003Z",
     "iopub.status.idle": "2022-10-22T22:01:48.570906Z",
     "shell.execute_reply": "2022-10-22T22:01:48.569630Z"
    },
    "papermill": {
     "duration": 0.275099,
     "end_time": "2022-10-22T22:01:48.573476",
     "exception": false,
     "start_time": "2022-10-22T22:01:48.298377",
     "status": "completed"
    },
    "tags": []
   },
   "outputs": [
    {
     "data": {
      "image/png": "[encoded data removed]",
      "text/plain": [
       "<Figure size 432x288 with 1 Axes>"
      ]
     },
     "metadata": {
      "needs_background": "light"
     },
     "output_type": "display_data"
    }
   ],
   "source": [
    "sns.histplot(data=dftrain, x='Age',hue=\"Survived\",binwidth=5,multiple='stack').set_title(\"Age Vs Survived\")\n",
    "plt.show()"
   ]
  },
  {
   "cell_type": "code",
   "execution_count": 10,
   "id": "795e87c9",
   "metadata": {
    "execution": {
     "iopub.execute_input": "2022-10-22T22:01:48.607742Z",
     "iopub.status.busy": "2022-10-22T22:01:48.607325Z",
     "iopub.status.idle": "2022-10-22T22:01:48.745992Z",
     "shell.execute_reply": "2022-10-22T22:01:48.744878Z"
    },
    "papermill": {
     "duration": 0.158456,
     "end_time": "2022-10-22T22:01:48.748318",
     "exception": false,
     "start_time": "2022-10-22T22:01:48.589862",
     "status": "completed"
    },
    "tags": []
   },
   "outputs": [
    {
     "data": {
      "text/plain": [
       "Text(0.5, 0, '%Survive')"
      ]
     },
     "execution_count": 10,
     "metadata": {},
     "output_type": "execute_result"
    },
    {
     "data": {
      "image/png": "[encoded data removed]",
      "text/plain": [
       "<Figure size 432x288 with 1 Axes>"
      ]
     },
     "metadata": {
      "needs_background": "light"
     },
     "output_type": "display_data"
    }
   ],
   "source": [
    "#Sex correlation with Survived:\n",
    "dftrain.groupby('Sex').Survived.mean().plot(kind='barh').set_xlabel('%Survive')"
   ]
  },
  {
   "cell_type": "code",
   "execution_count": 11,
   "id": "12f31c2f",
   "metadata": {
    "execution": {
     "iopub.execute_input": "2022-10-22T22:01:48.784828Z",
     "iopub.status.busy": "2022-10-22T22:01:48.784242Z",
     "iopub.status.idle": "2022-10-22T22:01:48.990254Z",
     "shell.execute_reply": "2022-10-22T22:01:48.989167Z"
    },
    "papermill": {
     "duration": 0.227337,
     "end_time": "2022-10-22T22:01:48.992908",
     "exception": false,
     "start_time": "2022-10-22T22:01:48.765571",
     "status": "completed"
    },
    "tags": []
   },
   "outputs": [
    {
     "data": {
      "text/plain": [
       "Text(0.5, 0, '%survive')"
      ]
     },
     "execution_count": 11,
     "metadata": {},
     "output_type": "execute_result"
    },
    {
     "data": {
      "image/png": "[encoded data removed]",
      "text/plain": [
       "<Figure size 432x288 with 1 Axes>"
      ]
     },
     "metadata": {
      "needs_background": "light"
     },
     "output_type": "display_data"
    }
   ],
   "source": [
    "##class correlation \n",
    "dftrain.groupby('Pclass').Survived.mean().plot(kind='barh').set_xlabel('%survive')"
   ]
  },
  {
   "cell_type": "code",
   "execution_count": 12,
   "id": "a1b58c19",
   "metadata": {
    "execution": {
     "iopub.execute_input": "2022-10-22T22:01:49.030842Z",
     "iopub.status.busy": "2022-10-22T22:01:49.030442Z",
     "iopub.status.idle": "2022-10-22T22:01:49.221872Z",
     "shell.execute_reply": "2022-10-22T22:01:49.220888Z"
    },
    "papermill": {
     "duration": 0.213464,
     "end_time": "2022-10-22T22:01:49.224128",
     "exception": false,
     "start_time": "2022-10-22T22:01:49.010664",
     "status": "completed"
    },
    "tags": []
   },
   "outputs": [
    {
     "data": {
      "text/plain": [
       "Text(0.5, 0, '%survive')"
      ]
     },
     "execution_count": 12,
     "metadata": {},
     "output_type": "execute_result"
    },
    {
     "data": {
      "image/png": "[encoded data removed]",
      "text/plain": [
       "<Figure size 432x288 with 1 Axes>"
      ]
     },
     "metadata": {
      "needs_background": "light"
     },
     "output_type": "display_data"
    }
   ],
   "source": [
    "#embarked correlation \n",
    "dftrain.groupby('Embarked').Survived.mean().plot(kind='barh').set_xlabel('%survive')"
   ]
  },
  {
   "cell_type": "code",
   "execution_count": 13,
   "id": "c2c1641b",
   "metadata": {
    "execution": {
     "iopub.execute_input": "2022-10-22T22:01:49.260901Z",
     "iopub.status.busy": "2022-10-22T22:01:49.260491Z",
     "iopub.status.idle": "2022-10-22T22:01:49.477347Z",
     "shell.execute_reply": "2022-10-22T22:01:49.476201Z"
    },
    "papermill": {
     "duration": 0.238452,
     "end_time": "2022-10-22T22:01:49.480024",
     "exception": false,
     "start_time": "2022-10-22T22:01:49.241572",
     "status": "completed"
    },
    "tags": []
   },
   "outputs": [
    {
     "data": {
      "text/plain": [
       "Text(0.5, 0, '%survive')"
      ]
     },
     "execution_count": 13,
     "metadata": {},
     "output_type": "execute_result"
    },
    {
     "data": {
      "image/png": "[encoded data removed]",
      "text/plain": [
       "<Figure size 432x288 with 1 Axes>"
      ]
     },
     "metadata": {
      "needs_background": "light"
     },
     "output_type": "display_data"
    }
   ],
   "source": [
    "#Parch correlation \n",
    "dftrain.groupby('Parch').Survived.mean().plot(kind='barh').set_xlabel('%survive')"
   ]
  },
  {
   "cell_type": "code",
   "execution_count": 14,
   "id": "a9c1f822",
   "metadata": {
    "execution": {
     "iopub.execute_input": "2022-10-22T22:01:49.518051Z",
     "iopub.status.busy": "2022-10-22T22:01:49.517380Z",
     "iopub.status.idle": "2022-10-22T22:01:49.726205Z",
     "shell.execute_reply": "2022-10-22T22:01:49.725075Z"
    },
    "papermill": {
     "duration": 0.230498,
     "end_time": "2022-10-22T22:01:49.728691",
     "exception": false,
     "start_time": "2022-10-22T22:01:49.498193",
     "status": "completed"
    },
    "tags": []
   },
   "outputs": [
    {
     "data": {
      "text/plain": [
       "Text(0.5, 0, '%survive')"
      ]
     },
     "execution_count": 14,
     "metadata": {},
     "output_type": "execute_result"
    },
    {
     "data": {
      "image/png": "[encoded data removed]",
      "text/plain": [
       "<Figure size 432x288 with 1 Axes>"
      ]
     },
     "metadata": {
      "needs_background": "light"
     },
     "output_type": "display_data"
    }
   ],
   "source": [
    "#Sibsp correlation \n",
    "dftrain.groupby('SibSp').Survived.mean().plot(kind='barh').set_xlabel('%survive')"
   ]
  },
  {
   "cell_type": "markdown",
   "id": "4ea58eff",
   "metadata": {
    "papermill": {
     "duration": 0.017557,
     "end_time": "2022-10-22T22:01:49.764329",
     "exception": false,
     "start_time": "2022-10-22T22:01:49.746772",
     "status": "completed"
    },
    "tags": []
   },
   "source": [
    "# Data Wrangling"
   ]
  },
  {
   "cell_type": "code",
   "execution_count": 15,
   "id": "8c0137cd",
   "metadata": {
    "execution": {
     "iopub.execute_input": "2022-10-22T22:01:49.802140Z",
     "iopub.status.busy": "2022-10-22T22:01:49.801756Z",
     "iopub.status.idle": "2022-10-22T22:01:49.811105Z",
     "shell.execute_reply": "2022-10-22T22:01:49.809831Z"
    },
    "papermill": {
     "duration": 0.031513,
     "end_time": "2022-10-22T22:01:49.813607",
     "exception": false,
     "start_time": "2022-10-22T22:01:49.782094",
     "status": "completed"
    },
    "tags": []
   },
   "outputs": [
    {
     "name": "stdout",
     "output_type": "stream",
     "text": [
      "Dropping features Done !!\n"
     ]
    }
   ],
   "source": [
    "# dropping unuseful features:\n",
    "dftrain.drop(columns = [\"PassengerId\"] , inplace = True)\n",
    "for dataset in combine:\n",
    "    dataset.drop(columns = [\"Ticket\" , \"Cabin\"] , inplace = True)\n",
    "print(\"Dropping features Done !!\")"
   ]
  },
  {
   "cell_type": "code",
   "execution_count": 16,
   "id": "c0717c7a",
   "metadata": {
    "execution": {
     "iopub.execute_input": "2022-10-22T22:01:49.852511Z",
     "iopub.status.busy": "2022-10-22T22:01:49.852089Z",
     "iopub.status.idle": "2022-10-22T22:01:49.864175Z",
     "shell.execute_reply": "2022-10-22T22:01:49.863021Z"
    },
    "papermill": {
     "duration": 0.034962,
     "end_time": "2022-10-22T22:01:49.866653",
     "exception": false,
     "start_time": "2022-10-22T22:01:49.831691",
     "status": "completed"
    },
    "tags": []
   },
   "outputs": [],
   "source": [
    "#replace missing values\n",
    "dftrain.Embarked.fillna(dftrain.Embarked.dropna().max(), inplace=True)\n",
    "for dataset in combine:\n",
    "    dataset['Embarked'] = dataset['Embarked'].dropna().map({'S':0,'C':1,'Q':2}).astype(int)"
   ]
  },
  {
   "cell_type": "code",
   "execution_count": 17,
   "id": "1cd232b0",
   "metadata": {
    "execution": {
     "iopub.execute_input": "2022-10-22T22:01:49.904589Z",
     "iopub.status.busy": "2022-10-22T22:01:49.904159Z",
     "iopub.status.idle": "2022-10-22T22:01:49.912170Z",
     "shell.execute_reply": "2022-10-22T22:01:49.911053Z"
    },
    "papermill": {
     "duration": 0.029643,
     "end_time": "2022-10-22T22:01:49.914396",
     "exception": false,
     "start_time": "2022-10-22T22:01:49.884753",
     "status": "completed"
    },
    "tags": []
   },
   "outputs": [],
   "source": [
    "for dataset in combine:\n",
    "    dataset['Sex'] = dataset['Sex'].map( {'female': 1, 'male': 0} ).astype(int) "
   ]
  },
  {
   "cell_type": "code",
   "execution_count": 18,
   "id": "b5ae46e3",
   "metadata": {
    "execution": {
     "iopub.execute_input": "2022-10-22T22:01:49.951808Z",
     "iopub.status.busy": "2022-10-22T22:01:49.951279Z",
     "iopub.status.idle": "2022-10-22T22:01:49.990106Z",
     "shell.execute_reply": "2022-10-22T22:01:49.988491Z"
    },
    "papermill": {
     "duration": 0.060432,
     "end_time": "2022-10-22T22:01:49.992618",
     "exception": false,
     "start_time": "2022-10-22T22:01:49.932186",
     "status": "completed"
    },
    "tags": []
   },
   "outputs": [
    {
     "name": "stdout",
     "output_type": "stream",
     "text": [
      "[[40.  30.  25. ]\n",
      " [35.  28.  21.5]]\n",
      "[[42. 28. 24.]\n",
      " [41. 24. 22.]]\n"
     ]
    }
   ],
   "source": [
    "#replace missing ages with median, using sex and class\n",
    "guess_ages = np.zeros((2,3))\n",
    "for dataset in combine:\n",
    "    for i in range(0, 2):\n",
    "        for j in range(0, 3):\n",
    "            guess_df = dataset[(dataset['Sex'] == i) & \\\n",
    "                           (dataset['Pclass'] == j+1)]['Age'].dropna()\n",
    "            age_guess = guess_df.median()\n",
    "            # Convert random age float to nearest .5 age\n",
    "            guess_ages[i,j] = int( age_guess/0.5 + 0.5 ) * 0.5\n",
    "    print(guess_ages)\n",
    "    for i in range(0, 2):\n",
    "        for j in range(0, 3):\n",
    "            dataset.loc[ (dataset.Age.isnull()) & (dataset.Sex == i) & (dataset.Pclass == j+1),\\\n",
    "                'Age'] = guess_ages[i,j]\n",
    "    dataset['Age'] = dataset['Age'].astype(int)"
   ]
  },
  {
   "cell_type": "code",
   "execution_count": 19,
   "id": "e391afef",
   "metadata": {
    "execution": {
     "iopub.execute_input": "2022-10-22T22:01:50.030271Z",
     "iopub.status.busy": "2022-10-22T22:01:50.029893Z",
     "iopub.status.idle": "2022-10-22T22:01:50.037292Z",
     "shell.execute_reply": "2022-10-22T22:01:50.036351Z"
    },
    "papermill": {
     "duration": 0.02867,
     "end_time": "2022-10-22T22:01:50.039336",
     "exception": false,
     "start_time": "2022-10-22T22:01:50.010666",
     "status": "completed"
    },
    "tags": []
   },
   "outputs": [],
   "source": [
    "dfeval[dfeval['Fare'].isna()]\n",
    "dfeval.Fare.fillna(dfeval.Fare.dropna().median() , inplace= True)"
   ]
  },
  {
   "cell_type": "code",
   "execution_count": 20,
   "id": "a3ab57a4",
   "metadata": {
    "execution": {
     "iopub.execute_input": "2022-10-22T22:01:50.077046Z",
     "iopub.status.busy": "2022-10-22T22:01:50.076338Z",
     "iopub.status.idle": "2022-10-22T22:01:50.084955Z",
     "shell.execute_reply": "2022-10-22T22:01:50.084165Z"
    },
    "papermill": {
     "duration": 0.029441,
     "end_time": "2022-10-22T22:01:50.086836",
     "exception": false,
     "start_time": "2022-10-22T22:01:50.057395",
     "status": "completed"
    },
    "tags": []
   },
   "outputs": [
    {
     "data": {
      "text/plain": [
       "Survived    0\n",
       "Pclass      0\n",
       "Name        0\n",
       "Sex         0\n",
       "Age         0\n",
       "SibSp       0\n",
       "Parch       0\n",
       "Fare        0\n",
       "Embarked    0\n",
       "dtype: int64"
      ]
     },
     "execution_count": 20,
     "metadata": {},
     "output_type": "execute_result"
    }
   ],
   "source": [
    "dftrain.isnull().sum()"
   ]
  },
  {
   "cell_type": "code",
   "execution_count": 21,
   "id": "a9a475dd",
   "metadata": {
    "execution": {
     "iopub.execute_input": "2022-10-22T22:01:50.125707Z",
     "iopub.status.busy": "2022-10-22T22:01:50.124499Z",
     "iopub.status.idle": "2022-10-22T22:01:50.133384Z",
     "shell.execute_reply": "2022-10-22T22:01:50.132469Z"
    },
    "papermill": {
     "duration": 0.029906,
     "end_time": "2022-10-22T22:01:50.135480",
     "exception": false,
     "start_time": "2022-10-22T22:01:50.105574",
     "status": "completed"
    },
    "tags": []
   },
   "outputs": [
    {
     "data": {
      "text/plain": [
       "PassengerId    0\n",
       "Pclass         0\n",
       "Name           0\n",
       "Sex            0\n",
       "Age            0\n",
       "SibSp          0\n",
       "Parch          0\n",
       "Fare           0\n",
       "Embarked       0\n",
       "dtype: int64"
      ]
     },
     "execution_count": 21,
     "metadata": {},
     "output_type": "execute_result"
    }
   ],
   "source": [
    "dfeval.isnull().sum()"
   ]
  },
  {
   "cell_type": "markdown",
   "id": "50cd22a3",
   "metadata": {
    "papermill": {
     "duration": 0.017645,
     "end_time": "2022-10-22T22:01:50.171096",
     "exception": false,
     "start_time": "2022-10-22T22:01:50.153451",
     "status": "completed"
    },
    "tags": []
   },
   "source": [
    "# Correlation"
   ]
  },
  {
   "cell_type": "code",
   "execution_count": 22,
   "id": "a3b86a09",
   "metadata": {
    "execution": {
     "iopub.execute_input": "2022-10-22T22:01:50.209463Z",
     "iopub.status.busy": "2022-10-22T22:01:50.209029Z",
     "iopub.status.idle": "2022-10-22T22:01:50.217815Z",
     "shell.execute_reply": "2022-10-22T22:01:50.217074Z"
    },
    "papermill": {
     "duration": 0.030764,
     "end_time": "2022-10-22T22:01:50.219777",
     "exception": false,
     "start_time": "2022-10-22T22:01:50.189013",
     "status": "completed"
    },
    "tags": []
   },
   "outputs": [
    {
     "data": {
      "text/plain": [
       "Survived    1.000000\n",
       "Sex         0.543351\n",
       "Fare        0.257307\n",
       "Embarked    0.106811\n",
       "Parch       0.081629\n",
       "SibSp      -0.035322\n",
       "Age        -0.060291\n",
       "Pclass     -0.338481\n",
       "Name: Survived, dtype: float64"
      ]
     },
     "execution_count": 22,
     "metadata": {},
     "output_type": "execute_result"
    }
   ],
   "source": [
    "#Correlation with the target:\n",
    "dftrain.corr()['Survived'].sort_values(ascending=False)"
   ]
  },
  {
   "cell_type": "code",
   "execution_count": 23,
   "id": "9a9f5521",
   "metadata": {
    "execution": {
     "iopub.execute_input": "2022-10-22T22:01:50.258780Z",
     "iopub.status.busy": "2022-10-22T22:01:50.258394Z",
     "iopub.status.idle": "2022-10-22T22:01:50.911549Z",
     "shell.execute_reply": "2022-10-22T22:01:50.910465Z"
    },
    "papermill": {
     "duration": 0.675503,
     "end_time": "2022-10-22T22:01:50.913818",
     "exception": false,
     "start_time": "2022-10-22T22:01:50.238315",
     "status": "completed"
    },
    "tags": []
   },
   "outputs": [
    {
     "data": {
      "text/plain": [
       "<AxesSubplot:>"
      ]
     },
     "execution_count": 23,
     "metadata": {},
     "output_type": "execute_result"
    },
    {
     "data": {
      "image/png": "[encoded data removed]",
      "text/plain": [
       "<Figure size 720x432 with 2 Axes>"
      ]
     },
     "metadata": {},
     "output_type": "display_data"
    }
   ],
   "source": [
    "#correlation between all our features\n",
    "sns.set(rc = {'figure.figsize':(10,6)})\n",
    "sns.heatmap(dftrain.corr(), annot = True, fmt='.2g',cmap= 'YlGnBu')"
   ]
  },
  {
   "cell_type": "code",
   "execution_count": 24,
   "id": "eff01a32",
   "metadata": {
    "execution": {
     "iopub.execute_input": "2022-10-22T22:01:50.953858Z",
     "iopub.status.busy": "2022-10-22T22:01:50.953443Z",
     "iopub.status.idle": "2022-10-22T22:01:50.973663Z",
     "shell.execute_reply": "2022-10-22T22:01:50.972572Z"
    },
    "papermill": {
     "duration": 0.043104,
     "end_time": "2022-10-22T22:01:50.976202",
     "exception": false,
     "start_time": "2022-10-22T22:01:50.933098",
     "status": "completed"
    },
    "tags": []
   },
   "outputs": [
    {
     "data": {
      "text/html": [
       "<div>\n",
       "<style scoped>\n",
       "    .dataframe tbody tr th:only-of-type {\n",
       "        vertical-align: middle;\n",
       "    }\n",
       "\n",
       "    .dataframe tbody tr th {\n",
       "        vertical-align: top;\n",
       "    }\n",
       "\n",
       "    .dataframe thead th {\n",
       "        text-align: right;\n",
       "    }\n",
       "</style>\n",
       "<table border=\"1\" class=\"dataframe\">\n",
       "  <thead>\n",
       "    <tr style=\"text-align: right;\">\n",
       "      <th></th>\n",
       "      <th>FamilySize</th>\n",
       "      <th>Survived</th>\n",
       "    </tr>\n",
       "  </thead>\n",
       "  <tbody>\n",
       "    <tr>\n",
       "      <th>3</th>\n",
       "      <td>4</td>\n",
       "      <td>0.724138</td>\n",
       "    </tr>\n",
       "    <tr>\n",
       "      <th>2</th>\n",
       "      <td>3</td>\n",
       "      <td>0.578431</td>\n",
       "    </tr>\n",
       "    <tr>\n",
       "      <th>1</th>\n",
       "      <td>2</td>\n",
       "      <td>0.552795</td>\n",
       "    </tr>\n",
       "    <tr>\n",
       "      <th>6</th>\n",
       "      <td>7</td>\n",
       "      <td>0.333333</td>\n",
       "    </tr>\n",
       "    <tr>\n",
       "      <th>0</th>\n",
       "      <td>1</td>\n",
       "      <td>0.303538</td>\n",
       "    </tr>\n",
       "    <tr>\n",
       "      <th>4</th>\n",
       "      <td>5</td>\n",
       "      <td>0.200000</td>\n",
       "    </tr>\n",
       "    <tr>\n",
       "      <th>5</th>\n",
       "      <td>6</td>\n",
       "      <td>0.136364</td>\n",
       "    </tr>\n",
       "    <tr>\n",
       "      <th>7</th>\n",
       "      <td>8</td>\n",
       "      <td>0.000000</td>\n",
       "    </tr>\n",
       "    <tr>\n",
       "      <th>8</th>\n",
       "      <td>11</td>\n",
       "      <td>0.000000</td>\n",
       "    </tr>\n",
       "  </tbody>\n",
       "</table>\n",
       "</div>"
      ],
      "text/plain": [
       "   FamilySize  Survived\n",
       "3           4  0.724138\n",
       "2           3  0.578431\n",
       "1           2  0.552795\n",
       "6           7  0.333333\n",
       "0           1  0.303538\n",
       "4           5  0.200000\n",
       "5           6  0.136364\n",
       "7           8  0.000000\n",
       "8          11  0.000000"
      ]
     },
     "execution_count": 24,
     "metadata": {},
     "output_type": "execute_result"
    }
   ],
   "source": [
    "# Not alone data frame i.e. the passenger has either a sibling or a parent.\n",
    "# Parch: num. of parents / children aboard \n",
    "# SibSp: num. of siblings / spouses aboard \n",
    "for dataset in combine:\n",
    "    dataset['FamilySize'] = dataset['SibSp'] + dataset['Parch'] + 1\n",
    "dftrain.drop(['Parch', 'SibSp'], axis=1 , inplace = True)\n",
    "dfeval.drop(['Parch', 'SibSp'], axis=1 , inplace = True)    \n",
    "dftrain[['FamilySize', 'Survived']].groupby(['FamilySize'], as_index=False).mean().sort_values(by='Survived', ascending=False)"
   ]
  },
  {
   "cell_type": "code",
   "execution_count": 25,
   "id": "2a5ff116",
   "metadata": {
    "execution": {
     "iopub.execute_input": "2022-10-22T22:01:51.018686Z",
     "iopub.status.busy": "2022-10-22T22:01:51.017473Z",
     "iopub.status.idle": "2022-10-22T22:01:51.034364Z",
     "shell.execute_reply": "2022-10-22T22:01:51.033594Z"
    },
    "papermill": {
     "duration": 0.040543,
     "end_time": "2022-10-22T22:01:51.036888",
     "exception": false,
     "start_time": "2022-10-22T22:01:50.996345",
     "status": "completed"
    },
    "tags": []
   },
   "outputs": [],
   "source": [
    "for dataset in combine:\n",
    "    dataset['Alone'] = dataset['FamilySize'].map(lambda s: 1 if s == 1 else 0)\n",
    "    dataset['SmallF'] = dataset['FamilySize'].map(lambda s: 1 if  s == 2  else 0)\n",
    "    dataset['MedF'] = dataset['FamilySize'].map(lambda s: 1 if 3 <= s <= 4 else 0)\n",
    "    dataset['LargeF'] = dataset['FamilySize'].map(lambda s: 1 if s >= 5 else 0)    \n",
    "dftrain.drop(columns = [\"FamilySize\"] , inplace = True)\n",
    "dfeval.drop(columns = [\"FamilySize\"] , inplace = True)"
   ]
  },
  {
   "cell_type": "code",
   "execution_count": 26,
   "id": "4d7d690f",
   "metadata": {
    "execution": {
     "iopub.execute_input": "2022-10-22T22:01:51.078018Z",
     "iopub.status.busy": "2022-10-22T22:01:51.077209Z",
     "iopub.status.idle": "2022-10-22T22:01:51.372763Z",
     "shell.execute_reply": "2022-10-22T22:01:51.371720Z"
    },
    "papermill": {
     "duration": 0.318711,
     "end_time": "2022-10-22T22:01:51.375138",
     "exception": false,
     "start_time": "2022-10-22T22:01:51.056427",
     "status": "completed"
    },
    "tags": []
   },
   "outputs": [
    {
     "data": {
      "text/plain": [
       "Text(0.5, 0, '%survive')"
      ]
     },
     "execution_count": 26,
     "metadata": {},
     "output_type": "execute_result"
    },
    {
     "data": {
      "image/png": "[encoded data removed]",
      "text/plain": [
       "<Figure size 720x432 with 1 Axes>"
      ]
     },
     "metadata": {},
     "output_type": "display_data"
    }
   ],
   "source": [
    "dftrain.groupby(['Pclass','Alone']).Survived.mean().plot(kind='barh').set_xlabel('%survive')"
   ]
  },
  {
   "cell_type": "code",
   "execution_count": 27,
   "id": "54f1e43e",
   "metadata": {
    "execution": {
     "iopub.execute_input": "2022-10-22T22:01:51.419851Z",
     "iopub.status.busy": "2022-10-22T22:01:51.418979Z",
     "iopub.status.idle": "2022-10-22T22:01:51.428396Z",
     "shell.execute_reply": "2022-10-22T22:01:51.427558Z"
    },
    "papermill": {
     "duration": 0.034861,
     "end_time": "2022-10-22T22:01:51.430573",
     "exception": false,
     "start_time": "2022-10-22T22:01:51.395712",
     "status": "completed"
    },
    "tags": []
   },
   "outputs": [
    {
     "data": {
      "text/plain": [
       "25    117\n",
       "21     66\n",
       "30     36\n",
       "40     36\n",
       "24     31\n",
       "     ... \n",
       "12      1\n",
       "53      1\n",
       "80      1\n",
       "66      1\n",
       "74      1\n",
       "Name: Age, Length: 71, dtype: int64"
      ]
     },
     "execution_count": 27,
     "metadata": {},
     "output_type": "execute_result"
    }
   ],
   "source": [
    "dftrain.Age.value_counts()"
   ]
  },
  {
   "cell_type": "code",
   "execution_count": 28,
   "id": "e216ba73",
   "metadata": {
    "execution": {
     "iopub.execute_input": "2022-10-22T22:01:51.472197Z",
     "iopub.status.busy": "2022-10-22T22:01:51.471528Z",
     "iopub.status.idle": "2022-10-22T22:01:51.496179Z",
     "shell.execute_reply": "2022-10-22T22:01:51.494977Z"
    },
    "papermill": {
     "duration": 0.048003,
     "end_time": "2022-10-22T22:01:51.498339",
     "exception": false,
     "start_time": "2022-10-22T22:01:51.450336",
     "status": "completed"
    },
    "tags": []
   },
   "outputs": [
    {
     "data": {
      "text/html": [
       "<div>\n",
       "<style scoped>\n",
       "    .dataframe tbody tr th:only-of-type {\n",
       "        vertical-align: middle;\n",
       "    }\n",
       "\n",
       "    .dataframe tbody tr th {\n",
       "        vertical-align: top;\n",
       "    }\n",
       "\n",
       "    .dataframe thead th {\n",
       "        text-align: right;\n",
       "    }\n",
       "</style>\n",
       "<table border=\"1\" class=\"dataframe\">\n",
       "  <thead>\n",
       "    <tr style=\"text-align: right;\">\n",
       "      <th></th>\n",
       "      <th>AgeBand</th>\n",
       "      <th>Survived</th>\n",
       "    </tr>\n",
       "  </thead>\n",
       "  <tbody>\n",
       "    <tr>\n",
       "      <th>0</th>\n",
       "      <td>(-0.08, 16.0]</td>\n",
       "      <td>0.550000</td>\n",
       "    </tr>\n",
       "    <tr>\n",
       "      <th>1</th>\n",
       "      <td>(16.0, 32.0]</td>\n",
       "      <td>0.337374</td>\n",
       "    </tr>\n",
       "    <tr>\n",
       "      <th>2</th>\n",
       "      <td>(32.0, 48.0]</td>\n",
       "      <td>0.412037</td>\n",
       "    </tr>\n",
       "    <tr>\n",
       "      <th>3</th>\n",
       "      <td>(48.0, 64.0]</td>\n",
       "      <td>0.434783</td>\n",
       "    </tr>\n",
       "    <tr>\n",
       "      <th>4</th>\n",
       "      <td>(64.0, 80.0]</td>\n",
       "      <td>0.090909</td>\n",
       "    </tr>\n",
       "  </tbody>\n",
       "</table>\n",
       "</div>"
      ],
      "text/plain": [
       "         AgeBand  Survived\n",
       "0  (-0.08, 16.0]  0.550000\n",
       "1   (16.0, 32.0]  0.337374\n",
       "2   (32.0, 48.0]  0.412037\n",
       "3   (48.0, 64.0]  0.434783\n",
       "4   (64.0, 80.0]  0.090909"
      ]
     },
     "execution_count": 28,
     "metadata": {},
     "output_type": "execute_result"
    }
   ],
   "source": [
    "dftrain['AgeBand'] = pd.cut(dftrain['Age'], 5)\n",
    "dftrain[['AgeBand', 'Survived']].groupby(['AgeBand'], as_index=False).mean().sort_values(by='AgeBand', ascending=True)"
   ]
  },
  {
   "cell_type": "code",
   "execution_count": 29,
   "id": "0468ea61",
   "metadata": {
    "execution": {
     "iopub.execute_input": "2022-10-22T22:01:51.540259Z",
     "iopub.status.busy": "2022-10-22T22:01:51.539880Z",
     "iopub.status.idle": "2022-10-22T22:01:51.554435Z",
     "shell.execute_reply": "2022-10-22T22:01:51.553667Z"
    },
    "papermill": {
     "duration": 0.03804,
     "end_time": "2022-10-22T22:01:51.556515",
     "exception": false,
     "start_time": "2022-10-22T22:01:51.518475",
     "status": "completed"
    },
    "tags": []
   },
   "outputs": [],
   "source": [
    "#Age group:\n",
    "for dataset in combine:  \n",
    "    dataset.loc[ dataset['Age'] <= 16, 'Age'] = 0\n",
    "    dataset.loc[(dataset['Age'] > 16) & (dataset['Age'] <= 32), 'Age'] = 1\n",
    "    dataset.loc[(dataset['Age'] > 32) & (dataset['Age'] <= 48), 'Age'] = 2\n",
    "    dataset.loc[(dataset['Age'] > 48) & (dataset['Age'] <= 64), 'Age'] = 3\n",
    "    dataset.loc[ dataset['Age'] > 64, 'Age'] = 4\n",
    "dftrain.drop(['AgeBand'], axis=1 , inplace = True)"
   ]
  },
  {
   "cell_type": "code",
   "execution_count": 30,
   "id": "1f19a7d0",
   "metadata": {
    "execution": {
     "iopub.execute_input": "2022-10-22T22:01:51.599454Z",
     "iopub.status.busy": "2022-10-22T22:01:51.598809Z",
     "iopub.status.idle": "2022-10-22T22:01:51.909316Z",
     "shell.execute_reply": "2022-10-22T22:01:51.907917Z"
    },
    "papermill": {
     "duration": 0.334546,
     "end_time": "2022-10-22T22:01:51.911812",
     "exception": false,
     "start_time": "2022-10-22T22:01:51.577266",
     "status": "completed"
    },
    "tags": []
   },
   "outputs": [
    {
     "data": {
      "text/plain": [
       "Text(0.5, 0, '%survive')"
      ]
     },
     "execution_count": 30,
     "metadata": {},
     "output_type": "execute_result"
    },
    {
     "data": {
      "image/png": "[encoded data removed]",
      "text/plain": [
       "<Figure size 720x432 with 1 Axes>"
      ]
     },
     "metadata": {},
     "output_type": "display_data"
    }
   ],
   "source": [
    "dftrain.groupby(['Age','Alone']).Survived.mean().plot(kind='barh').set_xlabel('%survive')"
   ]
  },
  {
   "cell_type": "code",
   "execution_count": 31,
   "id": "567abab0",
   "metadata": {
    "execution": {
     "iopub.execute_input": "2022-10-22T22:01:51.955166Z",
     "iopub.status.busy": "2022-10-22T22:01:51.954765Z",
     "iopub.status.idle": "2022-10-22T22:01:51.964638Z",
     "shell.execute_reply": "2022-10-22T22:01:51.963595Z"
    },
    "papermill": {
     "duration": 0.034024,
     "end_time": "2022-10-22T22:01:51.966824",
     "exception": false,
     "start_time": "2022-10-22T22:01:51.932800",
     "status": "completed"
    },
    "tags": []
   },
   "outputs": [
    {
     "data": {
      "text/plain": [
       "array([  7.25  ,  71.2833,   7.925 ,  53.1   ,   8.05  ,   8.4583,\n",
       "        51.8625,  21.075 ,  11.1333,  30.0708,  16.7   ,  26.55  ,\n",
       "        31.275 ,   7.8542,  16.    ,  29.125 ,  13.    ,  18.    ,\n",
       "         7.225 ,  26.    ,   8.0292,  35.5   ,  31.3875, 263.    ,\n",
       "         7.8792,   7.8958,  27.7208, 146.5208,   7.75  ,  10.5   ,\n",
       "        82.1708,  52.    ,   7.2292,  11.2417,   9.475 ,  21.    ,\n",
       "        41.5792,  15.5   ,  21.6792,  17.8   ,  39.6875,   7.8   ,\n",
       "        76.7292,  61.9792,  27.75  ,  46.9   ,  80.    ,  83.475 ,\n",
       "        27.9   ,  15.2458,   8.1583,   8.6625,  73.5   ,  14.4542,\n",
       "        56.4958,   7.65  ,  29.    ,  12.475 ,   9.    ,   9.5   ,\n",
       "         7.7875,  47.1   ,  15.85  ,  34.375 ,  61.175 ,  20.575 ,\n",
       "        34.6542,  63.3583,  23.    ,  77.2875,   8.6542,   7.775 ,\n",
       "        24.15  ,   9.825 ,  14.4583, 247.5208,   7.1417,  22.3583,\n",
       "         6.975 ,   7.05  ,  14.5   ,  15.0458,  26.2833,   9.2167,\n",
       "        79.2   ,   6.75  ,  11.5   ,  36.75  ,   7.7958,  12.525 ,\n",
       "        66.6   ,   7.3125,  61.3792,   7.7333,  69.55  ,  16.1   ,\n",
       "        15.75  ,  20.525 ,  55.    ,  25.925 ,  33.5   ,  30.6958,\n",
       "        25.4667,  28.7125,   0.    ,  15.05  ,  39.    ,  22.025 ,\n",
       "        50.    ,   8.4042,   6.4958,  10.4625,  18.7875,  31.    ,\n",
       "       113.275 ,  27.    ,  76.2917,  90.    ,   9.35  ,  13.5   ,\n",
       "         7.55  ,  26.25  ,  12.275 ,   7.125 ,  52.5542,  20.2125,\n",
       "        86.5   , 512.3292,  79.65  , 153.4625, 135.6333,  19.5   ,\n",
       "        29.7   ,  77.9583,  20.25  ,  78.85  ,  91.0792,  12.875 ,\n",
       "         8.85  , 151.55  ,  30.5   ,  23.25  ,  12.35  , 110.8833,\n",
       "       108.9   ,  24.    ,  56.9292,  83.1583, 262.375 ,  14.    ,\n",
       "       164.8667, 134.5   ,   6.2375,  57.9792,  28.5   , 133.65  ,\n",
       "        15.9   ,   9.225 ,  35.    ,  75.25  ,  69.3   ,  55.4417,\n",
       "       211.5   ,   4.0125, 227.525 ,  15.7417,   7.7292,  12.    ,\n",
       "       120.    ,  12.65  ,  18.75  ,   6.8583,  32.5   ,   7.875 ,\n",
       "        14.4   ,  55.9   ,   8.1125,  81.8583,  19.2583,  19.9667,\n",
       "        89.1042,  38.5   ,   7.725 ,  13.7917,   9.8375,   7.0458,\n",
       "         7.5208,  12.2875,   9.5875,  49.5042,  78.2667,  15.1   ,\n",
       "         7.6292,  22.525 ,  26.2875,  59.4   ,   7.4958,  34.0208,\n",
       "        93.5   , 221.7792, 106.425 ,  49.5   ,  71.    ,  13.8625,\n",
       "         7.8292,  39.6   ,  17.4   ,  51.4792,  26.3875,  30.    ,\n",
       "        40.125 ,   8.7125,  15.    ,  33.    ,  42.4   ,  15.55  ,\n",
       "        65.    ,  32.3208,   7.0542,   8.4333,  25.5875,   9.8417,\n",
       "         8.1375,  10.1708, 211.3375,  57.    ,  13.4167,   7.7417,\n",
       "         9.4833,   7.7375,   8.3625,  23.45  ,  25.9292,   8.6833,\n",
       "         8.5167,   7.8875,  37.0042,   6.45  ,   6.95  ,   8.3   ,\n",
       "         6.4375,  39.4   ,  14.1083,  13.8583,  50.4958,   5.    ,\n",
       "         9.8458,  10.5167])"
      ]
     },
     "execution_count": 31,
     "metadata": {},
     "output_type": "execute_result"
    }
   ],
   "source": [
    "dftrain.Fare.unique()"
   ]
  },
  {
   "cell_type": "code",
   "execution_count": 32,
   "id": "79c87323",
   "metadata": {
    "execution": {
     "iopub.execute_input": "2022-10-22T22:01:52.011462Z",
     "iopub.status.busy": "2022-10-22T22:01:52.011041Z",
     "iopub.status.idle": "2022-10-22T22:01:52.030715Z",
     "shell.execute_reply": "2022-10-22T22:01:52.029592Z"
    },
    "papermill": {
     "duration": 0.044885,
     "end_time": "2022-10-22T22:01:52.033205",
     "exception": false,
     "start_time": "2022-10-22T22:01:51.988320",
     "status": "completed"
    },
    "tags": []
   },
   "outputs": [
    {
     "data": {
      "text/html": [
       "<div>\n",
       "<style scoped>\n",
       "    .dataframe tbody tr th:only-of-type {\n",
       "        vertical-align: middle;\n",
       "    }\n",
       "\n",
       "    .dataframe tbody tr th {\n",
       "        vertical-align: top;\n",
       "    }\n",
       "\n",
       "    .dataframe thead th {\n",
       "        text-align: right;\n",
       "    }\n",
       "</style>\n",
       "<table border=\"1\" class=\"dataframe\">\n",
       "  <thead>\n",
       "    <tr style=\"text-align: right;\">\n",
       "      <th></th>\n",
       "      <th>FareBand</th>\n",
       "      <th>Survived</th>\n",
       "    </tr>\n",
       "  </thead>\n",
       "  <tbody>\n",
       "    <tr>\n",
       "      <th>3</th>\n",
       "      <td>(31.0, 512.329]</td>\n",
       "      <td>0.581081</td>\n",
       "    </tr>\n",
       "    <tr>\n",
       "      <th>2</th>\n",
       "      <td>(14.454, 31.0]</td>\n",
       "      <td>0.454955</td>\n",
       "    </tr>\n",
       "    <tr>\n",
       "      <th>1</th>\n",
       "      <td>(7.91, 14.454]</td>\n",
       "      <td>0.303571</td>\n",
       "    </tr>\n",
       "    <tr>\n",
       "      <th>0</th>\n",
       "      <td>(-0.001, 7.91]</td>\n",
       "      <td>0.197309</td>\n",
       "    </tr>\n",
       "  </tbody>\n",
       "</table>\n",
       "</div>"
      ],
      "text/plain": [
       "          FareBand  Survived\n",
       "3  (31.0, 512.329]  0.581081\n",
       "2   (14.454, 31.0]  0.454955\n",
       "1   (7.91, 14.454]  0.303571\n",
       "0   (-0.001, 7.91]  0.197309"
      ]
     },
     "execution_count": 32,
     "metadata": {},
     "output_type": "execute_result"
    }
   ],
   "source": [
    "dftrain['FareBand'] = pd.qcut(dftrain['Fare'], 4, duplicates='drop')\n",
    "dftrain[['FareBand', 'Survived']].groupby(['FareBand'], as_index=False).mean().sort_values(by='FareBand', ascending=False)\n"
   ]
  },
  {
   "cell_type": "code",
   "execution_count": 33,
   "id": "5cfe5326",
   "metadata": {
    "execution": {
     "iopub.execute_input": "2022-10-22T22:01:52.077040Z",
     "iopub.status.busy": "2022-10-22T22:01:52.076631Z",
     "iopub.status.idle": "2022-10-22T22:01:52.092168Z",
     "shell.execute_reply": "2022-10-22T22:01:52.091194Z"
    },
    "papermill": {
     "duration": 0.040237,
     "end_time": "2022-10-22T22:01:52.094585",
     "exception": false,
     "start_time": "2022-10-22T22:01:52.054348",
     "status": "completed"
    },
    "tags": []
   },
   "outputs": [],
   "source": [
    "# Fare Group:\n",
    "for dataset in combine:\n",
    "    dataset.loc[ dataset['Fare'] <= 7.91, 'Fare'] = 0\n",
    "    dataset.loc[(dataset['Fare'] > 7.91) & (dataset['Fare'] <= 14.454), 'Fare'] = 1\n",
    "    dataset.loc[(dataset['Fare'] > 14.454) & (dataset['Fare'] <= 31), 'Fare']   = 2\n",
    "    dataset.loc[ dataset['Fare'] > 31, 'Fare'] = 3\n",
    "    dataset['Fare'] = dataset['Fare'].astype(int)\n",
    "dftrain.drop(['FareBand'], axis=1 , inplace = True)\n"
   ]
  },
  {
   "cell_type": "code",
   "execution_count": 34,
   "id": "205d1ea9",
   "metadata": {
    "execution": {
     "iopub.execute_input": "2022-10-22T22:01:52.138360Z",
     "iopub.status.busy": "2022-10-22T22:01:52.137993Z",
     "iopub.status.idle": "2022-10-22T22:01:52.410881Z",
     "shell.execute_reply": "2022-10-22T22:01:52.409568Z"
    },
    "papermill": {
     "duration": 0.297844,
     "end_time": "2022-10-22T22:01:52.413414",
     "exception": false,
     "start_time": "2022-10-22T22:01:52.115570",
     "status": "completed"
    },
    "tags": []
   },
   "outputs": [
    {
     "data": {
      "text/plain": [
       "Text(0.5, 0, '%Survive')"
      ]
     },
     "execution_count": 34,
     "metadata": {},
     "output_type": "execute_result"
    },
    {
     "data": {
      "image/png": "[encoded data removed]",
      "text/plain": [
       "<Figure size 720x432 with 1 Axes>"
      ]
     },
     "metadata": {},
     "output_type": "display_data"
    }
   ],
   "source": [
    "#Fare -> strong positive \n",
    "dftrain.groupby(['Fare']).Survived.mean().plot(kind='barh').set_xlabel('%Survive')"
   ]
  },
  {
   "cell_type": "code",
   "execution_count": 35,
   "id": "e4e59126",
   "metadata": {
    "execution": {
     "iopub.execute_input": "2022-10-22T22:01:52.458513Z",
     "iopub.status.busy": "2022-10-22T22:01:52.457436Z",
     "iopub.status.idle": "2022-10-22T22:01:52.468846Z",
     "shell.execute_reply": "2022-10-22T22:01:52.467880Z"
    },
    "papermill": {
     "duration": 0.036256,
     "end_time": "2022-10-22T22:01:52.470948",
     "exception": false,
     "start_time": "2022-10-22T22:01:52.434692",
     "status": "completed"
    },
    "tags": []
   },
   "outputs": [
    {
     "data": {
      "text/plain": [
       "array(['Mr', 'Mrs', 'Miss', 'Master', 'Don', 'Rev', 'Dr', 'Mme', 'Ms',\n",
       "       'Major', 'Lady', 'Sir', 'Mlle', 'Col', 'Capt', 'Countess',\n",
       "       'Jonkheer'], dtype=object)"
      ]
     },
     "execution_count": 35,
     "metadata": {},
     "output_type": "execute_result"
    }
   ],
   "source": [
    "# Name Title\n",
    "for dataset in combine:\n",
    "    dataset['Title'] = dataset.Name.str.extract(' ([A-Za-z]+)\\.', expand=False)\n",
    "dftrain.Title.unique()"
   ]
  },
  {
   "cell_type": "code",
   "execution_count": 36,
   "id": "4a854945",
   "metadata": {
    "execution": {
     "iopub.execute_input": "2022-10-22T22:01:52.517143Z",
     "iopub.status.busy": "2022-10-22T22:01:52.516259Z",
     "iopub.status.idle": "2022-10-22T22:01:52.537818Z",
     "shell.execute_reply": "2022-10-22T22:01:52.536714Z"
    },
    "papermill": {
     "duration": 0.047465,
     "end_time": "2022-10-22T22:01:52.540353",
     "exception": false,
     "start_time": "2022-10-22T22:01:52.492888",
     "status": "completed"
    },
    "tags": []
   },
   "outputs": [
    {
     "data": {
      "text/plain": [
       "array([1, 3, 2, 4, 5])"
      ]
     },
     "execution_count": 36,
     "metadata": {},
     "output_type": "execute_result"
    }
   ],
   "source": [
    "for dataset in combine:\n",
    "    dataset['Title'] = dataset['Title'].replace(['Lady', 'Countess','Capt', 'Col',\\\n",
    "    'Don', 'Dr', 'Major', 'Rev', 'Sir', 'Jonkheer', 'Dona'], 'Rare')\n",
    "    dataset['Title'] = dataset['Title'].replace('Mlle', 'Miss')\n",
    "    dataset['Title'] = dataset['Title'].replace('Ms', 'Miss')\n",
    "    dataset['Title'] = dataset['Title'].replace('Mme', 'Mrs')\n",
    "title_mapping = {\"Mr\": 1, \"Miss\": 2, \"Mrs\": 3, \"Master\": 4, \"Rare\": 5}\n",
    "for dataset in combine:\n",
    "    dataset['Title'] = dataset['Title'].map(title_mapping)\n",
    "    dataset['Title'] = dataset['Title'].fillna(0)\n",
    "dftrain.drop(['Name'], axis=1 , inplace = True)\n",
    "dfeval.drop(['Name'], axis=1 , inplace = True) \n",
    "\n",
    "dftrain.Title.unique()\n"
   ]
  },
  {
   "cell_type": "code",
   "execution_count": 37,
   "id": "023469db",
   "metadata": {
    "execution": {
     "iopub.execute_input": "2022-10-22T22:01:52.585401Z",
     "iopub.status.busy": "2022-10-22T22:01:52.585021Z",
     "iopub.status.idle": "2022-10-22T22:01:52.594573Z",
     "shell.execute_reply": "2022-10-22T22:01:52.593744Z"
    },
    "papermill": {
     "duration": 0.034511,
     "end_time": "2022-10-22T22:01:52.596583",
     "exception": false,
     "start_time": "2022-10-22T22:01:52.562072",
     "status": "completed"
    },
    "tags": []
   },
   "outputs": [
    {
     "data": {
      "text/plain": [
       "Survived    1.000000\n",
       "Sex         0.543351\n",
       "Title       0.407753\n",
       "Fare        0.295875\n",
       "MedF        0.193662\n",
       "SmallF      0.163157\n",
       "Embarked    0.106811\n",
       "Age        -0.037059\n",
       "LargeF     -0.125147\n",
       "Alone      -0.203367\n",
       "Pclass     -0.338481\n",
       "Name: Survived, dtype: float64"
      ]
     },
     "execution_count": 37,
     "metadata": {},
     "output_type": "execute_result"
    }
   ],
   "source": [
    "dftrain.corr()[\"Survived\"].sort_values(ascending=False)\n"
   ]
  },
  {
   "cell_type": "code",
   "execution_count": 38,
   "id": "10abed48",
   "metadata": {
    "execution": {
     "iopub.execute_input": "2022-10-22T22:01:52.643581Z",
     "iopub.status.busy": "2022-10-22T22:01:52.642955Z",
     "iopub.status.idle": "2022-10-22T22:01:53.731348Z",
     "shell.execute_reply": "2022-10-22T22:01:53.730593Z"
    },
    "papermill": {
     "duration": 1.114365,
     "end_time": "2022-10-22T22:01:53.733846",
     "exception": false,
     "start_time": "2022-10-22T22:01:52.619481",
     "status": "completed"
    },
    "tags": []
   },
   "outputs": [
    {
     "data": {
      "text/plain": [
       "<AxesSubplot:>"
      ]
     },
     "execution_count": 38,
     "metadata": {},
     "output_type": "execute_result"
    },
    {
     "data": {
      "image/png": "[encoded data removed]",
      "text/plain": [
       "<Figure size 720x432 with 2 Axes>"
      ]
     },
     "metadata": {},
     "output_type": "display_data"
    }
   ],
   "source": [
    "sns.set(rc = {'figure.figsize':(10,6)})\n",
    "sns.heatmap(dftrain.corr(), annot = True, fmt='.2g',cmap= 'YlGnBu')"
   ]
  },
  {
   "cell_type": "code",
   "execution_count": 39,
   "id": "d765a324",
   "metadata": {
    "execution": {
     "iopub.execute_input": "2022-10-22T22:01:53.782145Z",
     "iopub.status.busy": "2022-10-22T22:01:53.781764Z",
     "iopub.status.idle": "2022-10-22T22:01:53.796902Z",
     "shell.execute_reply": "2022-10-22T22:01:53.796070Z"
    },
    "papermill": {
     "duration": 0.041495,
     "end_time": "2022-10-22T22:01:53.798970",
     "exception": false,
     "start_time": "2022-10-22T22:01:53.757475",
     "status": "completed"
    },
    "tags": []
   },
   "outputs": [
    {
     "data": {
      "text/html": [
       "<div>\n",
       "<style scoped>\n",
       "    .dataframe tbody tr th:only-of-type {\n",
       "        vertical-align: middle;\n",
       "    }\n",
       "\n",
       "    .dataframe tbody tr th {\n",
       "        vertical-align: top;\n",
       "    }\n",
       "\n",
       "    .dataframe thead th {\n",
       "        text-align: right;\n",
       "    }\n",
       "</style>\n",
       "<table border=\"1\" class=\"dataframe\">\n",
       "  <thead>\n",
       "    <tr style=\"text-align: right;\">\n",
       "      <th></th>\n",
       "      <th>Sex</th>\n",
       "      <th>Pclass</th>\n",
       "      <th>Survived</th>\n",
       "    </tr>\n",
       "  </thead>\n",
       "  <tbody>\n",
       "    <tr>\n",
       "      <th>0</th>\n",
       "      <td>0</td>\n",
       "      <td>1</td>\n",
       "      <td>0.368852</td>\n",
       "    </tr>\n",
       "    <tr>\n",
       "      <th>1</th>\n",
       "      <td>0</td>\n",
       "      <td>2</td>\n",
       "      <td>0.157407</td>\n",
       "    </tr>\n",
       "    <tr>\n",
       "      <th>2</th>\n",
       "      <td>0</td>\n",
       "      <td>3</td>\n",
       "      <td>0.135447</td>\n",
       "    </tr>\n",
       "    <tr>\n",
       "      <th>3</th>\n",
       "      <td>1</td>\n",
       "      <td>1</td>\n",
       "      <td>0.968085</td>\n",
       "    </tr>\n",
       "    <tr>\n",
       "      <th>4</th>\n",
       "      <td>1</td>\n",
       "      <td>2</td>\n",
       "      <td>0.921053</td>\n",
       "    </tr>\n",
       "    <tr>\n",
       "      <th>5</th>\n",
       "      <td>1</td>\n",
       "      <td>3</td>\n",
       "      <td>0.500000</td>\n",
       "    </tr>\n",
       "  </tbody>\n",
       "</table>\n",
       "</div>"
      ],
      "text/plain": [
       "   Sex  Pclass  Survived\n",
       "0    0       1  0.368852\n",
       "1    0       2  0.157407\n",
       "2    0       3  0.135447\n",
       "3    1       1  0.968085\n",
       "4    1       2  0.921053\n",
       "5    1       3  0.500000"
      ]
     },
     "execution_count": 39,
     "metadata": {},
     "output_type": "execute_result"
    }
   ],
   "source": [
    "df_gptest = dftrain[['Sex','Pclass','Survived']]\n",
    "df_group = df_gptest.groupby(['Sex','Pclass'],as_index=False).mean()\n",
    "df_group"
   ]
  },
  {
   "cell_type": "code",
   "execution_count": 40,
   "id": "59d41e68",
   "metadata": {
    "execution": {
     "iopub.execute_input": "2022-10-22T22:01:53.847688Z",
     "iopub.status.busy": "2022-10-22T22:01:53.847023Z",
     "iopub.status.idle": "2022-10-22T22:01:53.863692Z",
     "shell.execute_reply": "2022-10-22T22:01:53.862486Z"
    },
    "papermill": {
     "duration": 0.043396,
     "end_time": "2022-10-22T22:01:53.866007",
     "exception": false,
     "start_time": "2022-10-22T22:01:53.822611",
     "status": "completed"
    },
    "tags": []
   },
   "outputs": [
    {
     "data": {
      "text/html": [
       "<div>\n",
       "<style scoped>\n",
       "    .dataframe tbody tr th:only-of-type {\n",
       "        vertical-align: middle;\n",
       "    }\n",
       "\n",
       "    .dataframe tbody tr th {\n",
       "        vertical-align: top;\n",
       "    }\n",
       "\n",
       "    .dataframe thead tr th {\n",
       "        text-align: left;\n",
       "    }\n",
       "\n",
       "    .dataframe thead tr:last-of-type th {\n",
       "        text-align: right;\n",
       "    }\n",
       "</style>\n",
       "<table border=\"1\" class=\"dataframe\">\n",
       "  <thead>\n",
       "    <tr>\n",
       "      <th></th>\n",
       "      <th colspan=\"3\" halign=\"left\">Survived</th>\n",
       "    </tr>\n",
       "    <tr>\n",
       "      <th>Pclass</th>\n",
       "      <th>1</th>\n",
       "      <th>2</th>\n",
       "      <th>3</th>\n",
       "    </tr>\n",
       "    <tr>\n",
       "      <th>Sex</th>\n",
       "      <th></th>\n",
       "      <th></th>\n",
       "      <th></th>\n",
       "    </tr>\n",
       "  </thead>\n",
       "  <tbody>\n",
       "    <tr>\n",
       "      <th>0</th>\n",
       "      <td>0.368852</td>\n",
       "      <td>0.157407</td>\n",
       "      <td>0.135447</td>\n",
       "    </tr>\n",
       "    <tr>\n",
       "      <th>1</th>\n",
       "      <td>0.968085</td>\n",
       "      <td>0.921053</td>\n",
       "      <td>0.500000</td>\n",
       "    </tr>\n",
       "  </tbody>\n",
       "</table>\n",
       "</div>"
      ],
      "text/plain": [
       "        Survived                    \n",
       "Pclass         1         2         3\n",
       "Sex                                 \n",
       "0       0.368852  0.157407  0.135447\n",
       "1       0.968085  0.921053  0.500000"
      ]
     },
     "execution_count": 40,
     "metadata": {},
     "output_type": "execute_result"
    }
   ],
   "source": [
    "grouped_pivot = df_group.pivot(index='Sex',columns='Pclass')\n",
    "grouped_pivot"
   ]
  },
  {
   "cell_type": "code",
   "execution_count": 41,
   "id": "3173b52c",
   "metadata": {
    "execution": {
     "iopub.execute_input": "2022-10-22T22:01:53.914226Z",
     "iopub.status.busy": "2022-10-22T22:01:53.913845Z",
     "iopub.status.idle": "2022-10-22T22:01:53.926478Z",
     "shell.execute_reply": "2022-10-22T22:01:53.925343Z"
    },
    "papermill": {
     "duration": 0.039642,
     "end_time": "2022-10-22T22:01:53.928854",
     "exception": false,
     "start_time": "2022-10-22T22:01:53.889212",
     "status": "completed"
    },
    "tags": []
   },
   "outputs": [
    {
     "data": {
      "text/html": [
       "<div>\n",
       "<style scoped>\n",
       "    .dataframe tbody tr th:only-of-type {\n",
       "        vertical-align: middle;\n",
       "    }\n",
       "\n",
       "    .dataframe tbody tr th {\n",
       "        vertical-align: top;\n",
       "    }\n",
       "\n",
       "    .dataframe thead th {\n",
       "        text-align: right;\n",
       "    }\n",
       "</style>\n",
       "<table border=\"1\" class=\"dataframe\">\n",
       "  <thead>\n",
       "    <tr style=\"text-align: right;\">\n",
       "      <th></th>\n",
       "      <th>Pclass</th>\n",
       "      <th>Survived</th>\n",
       "    </tr>\n",
       "  </thead>\n",
       "  <tbody>\n",
       "    <tr>\n",
       "      <th>0</th>\n",
       "      <td>3</td>\n",
       "      <td>0</td>\n",
       "    </tr>\n",
       "    <tr>\n",
       "      <th>1</th>\n",
       "      <td>1</td>\n",
       "      <td>1</td>\n",
       "    </tr>\n",
       "    <tr>\n",
       "      <th>2</th>\n",
       "      <td>3</td>\n",
       "      <td>1</td>\n",
       "    </tr>\n",
       "    <tr>\n",
       "      <th>3</th>\n",
       "      <td>1</td>\n",
       "      <td>1</td>\n",
       "    </tr>\n",
       "    <tr>\n",
       "      <th>9</th>\n",
       "      <td>2</td>\n",
       "      <td>1</td>\n",
       "    </tr>\n",
       "    <tr>\n",
       "      <th>15</th>\n",
       "      <td>2</td>\n",
       "      <td>1</td>\n",
       "    </tr>\n",
       "  </tbody>\n",
       "</table>\n",
       "</div>"
      ],
      "text/plain": [
       "    Pclass  Survived\n",
       "0        3         0\n",
       "1        1         1\n",
       "2        3         1\n",
       "3        1         1\n",
       "9        2         1\n",
       "15       2         1"
      ]
     },
     "execution_count": 41,
     "metadata": {},
     "output_type": "execute_result"
    }
   ],
   "source": [
    "grouped_Pclass=df_gptest[['Pclass', 'Survived']].groupby(['Pclass'])\n",
    "grouped_Pclass.head(2)"
   ]
  },
  {
   "cell_type": "code",
   "execution_count": 42,
   "id": "d48ccd95",
   "metadata": {
    "execution": {
     "iopub.execute_input": "2022-10-22T22:01:53.978237Z",
     "iopub.status.busy": "2022-10-22T22:01:53.977428Z",
     "iopub.status.idle": "2022-10-22T22:01:53.986963Z",
     "shell.execute_reply": "2022-10-22T22:01:53.985750Z"
    },
    "papermill": {
     "duration": 0.037382,
     "end_time": "2022-10-22T22:01:53.989958",
     "exception": false,
     "start_time": "2022-10-22T22:01:53.952576",
     "status": "completed"
    },
    "tags": []
   },
   "outputs": [
    {
     "name": "stdout",
     "output_type": "stream",
     "text": [
      "fval= 57.964817590910116 Pval =  2.1832474151179777e-24\n"
     ]
    }
   ],
   "source": [
    "fval, pval = stats.f_oneway(grouped_Pclass.get_group(1)['Survived'],grouped_Pclass.get_group(2)['Survived'],grouped_Pclass.get_group(3)['Survived'])\n",
    "print('fval=', fval, 'Pval = ', pval)"
   ]
  },
  {
   "cell_type": "code",
   "execution_count": 43,
   "id": "bbf25297",
   "metadata": {
    "execution": {
     "iopub.execute_input": "2022-10-22T22:01:54.040638Z",
     "iopub.status.busy": "2022-10-22T22:01:54.039639Z",
     "iopub.status.idle": "2022-10-22T22:01:54.047037Z",
     "shell.execute_reply": "2022-10-22T22:01:54.045826Z"
    },
    "papermill": {
     "duration": 0.034763,
     "end_time": "2022-10-22T22:01:54.049098",
     "exception": false,
     "start_time": "2022-10-22T22:01:54.014335",
     "status": "completed"
    },
    "tags": []
   },
   "outputs": [
    {
     "name": "stdout",
     "output_type": "stream",
     "text": [
      "fval= 10.103587293685537 Pval =  0.0015954656668377672\n"
     ]
    }
   ],
   "source": [
    "fval, pval = stats.f_oneway(grouped_Pclass.get_group(1)['Survived'],grouped_Pclass.get_group(2)['Survived'])\n",
    "print('fval=', fval, 'Pval = ', pval)"
   ]
  },
  {
   "cell_type": "code",
   "execution_count": 44,
   "id": "320ca6d5",
   "metadata": {
    "execution": {
     "iopub.execute_input": "2022-10-22T22:01:54.098642Z",
     "iopub.status.busy": "2022-10-22T22:01:54.098024Z",
     "iopub.status.idle": "2022-10-22T22:01:54.104564Z",
     "shell.execute_reply": "2022-10-22T22:01:54.103441Z"
    },
    "papermill": {
     "duration": 0.033605,
     "end_time": "2022-10-22T22:01:54.106525",
     "exception": false,
     "start_time": "2022-10-22T22:01:54.072920",
     "status": "completed"
    },
    "tags": []
   },
   "outputs": [
    {
     "name": "stdout",
     "output_type": "stream",
     "text": [
      "fval= 112.86505470741152 Pval =  1.4803959119906348e-24\n"
     ]
    }
   ],
   "source": [
    "fval, pval = stats.f_oneway(grouped_Pclass.get_group(1)['Survived'],grouped_Pclass.get_group(3)['Survived'])\n",
    "print('fval=', fval, 'Pval = ', pval)"
   ]
  },
  {
   "cell_type": "code",
   "execution_count": 45,
   "id": "83086d36",
   "metadata": {
    "execution": {
     "iopub.execute_input": "2022-10-22T22:01:54.155650Z",
     "iopub.status.busy": "2022-10-22T22:01:54.155034Z",
     "iopub.status.idle": "2022-10-22T22:01:54.161827Z",
     "shell.execute_reply": "2022-10-22T22:01:54.160700Z"
    },
    "papermill": {
     "duration": 0.033886,
     "end_time": "2022-10-22T22:01:54.163864",
     "exception": false,
     "start_time": "2022-10-22T22:01:54.129978",
     "status": "completed"
    },
    "tags": []
   },
   "outputs": [
    {
     "name": "stdout",
     "output_type": "stream",
     "text": [
      "fval= 35.17246675282538 Pval =  4.824799495145908e-09\n"
     ]
    }
   ],
   "source": [
    "fval, pval = stats.f_oneway(grouped_Pclass.get_group(2)['Survived'],grouped_Pclass.get_group(3)['Survived'])\n",
    "print('fval=', fval, 'Pval = ', pval)"
   ]
  },
  {
   "cell_type": "code",
   "execution_count": 46,
   "id": "3c18c6e5",
   "metadata": {
    "execution": {
     "iopub.execute_input": "2022-10-22T22:01:54.214120Z",
     "iopub.status.busy": "2022-10-22T22:01:54.213503Z",
     "iopub.status.idle": "2022-10-22T22:01:54.451697Z",
     "shell.execute_reply": "2022-10-22T22:01:54.450592Z"
    },
    "papermill": {
     "duration": 0.266406,
     "end_time": "2022-10-22T22:01:54.454117",
     "exception": false,
     "start_time": "2022-10-22T22:01:54.187711",
     "status": "completed"
    },
    "tags": []
   },
   "outputs": [
    {
     "data": {
      "image/png": "[encoded data removed]",
      "text/plain": [
       "<Figure size 720x432 with 2 Axes>"
      ]
     },
     "metadata": {},
     "output_type": "display_data"
    }
   ],
   "source": [
    "grouped_pivot = df_group.pivot(index='Sex',columns='Pclass')\n",
    "fig, ax = plt.subplots()\n",
    "im = ax.pcolor(grouped_pivot, cmap='RdBu')\n",
    "#label names\n",
    "row_labels = grouped_pivot.columns.levels[1]\n",
    "col_labels = grouped_pivot.index\n",
    "#move ticks and labels to the center\n",
    "ax.set_xticks(np.arange(grouped_pivot.shape[1]) + 0.5, minor=False)\n",
    "ax.set_yticks(np.arange(grouped_pivot.shape[0]) + 0.5, minor=False)\n",
    "#insert labels\n",
    "ax.set_xticklabels(row_labels, minor=False)\n",
    "ax.set_yticklabels(col_labels, minor=False)\n",
    "#rotate label if too long\n",
    "plt.xticks(rotation=90)\n",
    "fig.colorbar(im)\n",
    "plt.show()"
   ]
  },
  {
   "cell_type": "code",
   "execution_count": 47,
   "id": "237ab7d5",
   "metadata": {
    "execution": {
     "iopub.execute_input": "2022-10-22T22:01:54.504612Z",
     "iopub.status.busy": "2022-10-22T22:01:54.504195Z",
     "iopub.status.idle": "2022-10-22T22:01:54.516770Z",
     "shell.execute_reply": "2022-10-22T22:01:54.515766Z"
    },
    "papermill": {
     "duration": 0.040617,
     "end_time": "2022-10-22T22:01:54.519043",
     "exception": false,
     "start_time": "2022-10-22T22:01:54.478426",
     "status": "completed"
    },
    "tags": []
   },
   "outputs": [
    {
     "data": {
      "text/html": [
       "<div>\n",
       "<style scoped>\n",
       "    .dataframe tbody tr th:only-of-type {\n",
       "        vertical-align: middle;\n",
       "    }\n",
       "\n",
       "    .dataframe tbody tr th {\n",
       "        vertical-align: top;\n",
       "    }\n",
       "\n",
       "    .dataframe thead th {\n",
       "        text-align: right;\n",
       "    }\n",
       "</style>\n",
       "<table border=\"1\" class=\"dataframe\">\n",
       "  <thead>\n",
       "    <tr style=\"text-align: right;\">\n",
       "      <th></th>\n",
       "      <th>Sex</th>\n",
       "      <th>Survived</th>\n",
       "    </tr>\n",
       "  </thead>\n",
       "  <tbody>\n",
       "    <tr>\n",
       "      <th>0</th>\n",
       "      <td>0</td>\n",
       "      <td>0</td>\n",
       "    </tr>\n",
       "    <tr>\n",
       "      <th>1</th>\n",
       "      <td>1</td>\n",
       "      <td>1</td>\n",
       "    </tr>\n",
       "    <tr>\n",
       "      <th>2</th>\n",
       "      <td>1</td>\n",
       "      <td>1</td>\n",
       "    </tr>\n",
       "    <tr>\n",
       "      <th>4</th>\n",
       "      <td>0</td>\n",
       "      <td>0</td>\n",
       "    </tr>\n",
       "  </tbody>\n",
       "</table>\n",
       "</div>"
      ],
      "text/plain": [
       "   Sex  Survived\n",
       "0    0         0\n",
       "1    1         1\n",
       "2    1         1\n",
       "4    0         0"
      ]
     },
     "execution_count": 47,
     "metadata": {},
     "output_type": "execute_result"
    }
   ],
   "source": [
    "grouped_Sex=df_gptest[['Sex', 'Survived']].groupby(['Sex'])\n",
    "grouped_Sex.head(2)"
   ]
  },
  {
   "cell_type": "code",
   "execution_count": 48,
   "id": "e1807db9",
   "metadata": {
    "execution": {
     "iopub.execute_input": "2022-10-22T22:01:54.569690Z",
     "iopub.status.busy": "2022-10-22T22:01:54.568567Z",
     "iopub.status.idle": "2022-10-22T22:01:54.577650Z",
     "shell.execute_reply": "2022-10-22T22:01:54.576707Z"
    },
    "papermill": {
     "duration": 0.036475,
     "end_time": "2022-10-22T22:01:54.579707",
     "exception": false,
     "start_time": "2022-10-22T22:01:54.543232",
     "status": "completed"
    },
    "tags": []
   },
   "outputs": [
    {
     "data": {
      "text/plain": [
       "0      0\n",
       "4      0\n",
       "5      0\n",
       "6      0\n",
       "7      0\n",
       "      ..\n",
       "883    0\n",
       "884    0\n",
       "886    0\n",
       "889    1\n",
       "890    0\n",
       "Name: Survived, Length: 577, dtype: int64"
      ]
     },
     "execution_count": 48,
     "metadata": {},
     "output_type": "execute_result"
    }
   ],
   "source": [
    "grouped_Sex.get_group(0)['Survived']"
   ]
  },
  {
   "cell_type": "code",
   "execution_count": 49,
   "id": "6fa1afcc",
   "metadata": {
    "execution": {
     "iopub.execute_input": "2022-10-22T22:01:54.631291Z",
     "iopub.status.busy": "2022-10-22T22:01:54.630110Z",
     "iopub.status.idle": "2022-10-22T22:01:54.639137Z",
     "shell.execute_reply": "2022-10-22T22:01:54.637483Z"
    },
    "papermill": {
     "duration": 0.037176,
     "end_time": "2022-10-22T22:01:54.641655",
     "exception": false,
     "start_time": "2022-10-22T22:01:54.604479",
     "status": "completed"
    },
    "tags": []
   },
   "outputs": [
    {
     "name": "stdout",
     "output_type": "stream",
     "text": [
      "fval= 372.4057236022147 Pval =  1.406066130879677e-69\n"
     ]
    }
   ],
   "source": [
    "fval, pval = stats.f_oneway(grouped_Sex.get_group(0)['Survived'],grouped_Sex.get_group(1)['Survived'])\n",
    "print('fval=', fval, 'Pval = ', pval)"
   ]
  },
  {
   "cell_type": "code",
   "execution_count": 50,
   "id": "11ac0549",
   "metadata": {
    "execution": {
     "iopub.execute_input": "2022-10-22T22:01:54.691907Z",
     "iopub.status.busy": "2022-10-22T22:01:54.691477Z",
     "iopub.status.idle": "2022-10-22T22:01:54.702923Z",
     "shell.execute_reply": "2022-10-22T22:01:54.701923Z"
    },
    "papermill": {
     "duration": 0.039405,
     "end_time": "2022-10-22T22:01:54.705255",
     "exception": false,
     "start_time": "2022-10-22T22:01:54.665850",
     "status": "completed"
    },
    "tags": []
   },
   "outputs": [
    {
     "data": {
      "text/plain": [
       "6      0\n",
       "23     1\n",
       "27     0\n",
       "30     0\n",
       "34     0\n",
       "      ..\n",
       "839    1\n",
       "857    1\n",
       "867    0\n",
       "872    0\n",
       "889    1\n",
       "Name: Survived, Length: 122, dtype: int64"
      ]
     },
     "execution_count": 50,
     "metadata": {},
     "output_type": "execute_result"
    }
   ],
   "source": [
    "grouped_SexPc = df_gptest.groupby(['Sex','Pclass'],as_index=False)\n",
    "grouped_SexPc.head(2)\n",
    "grouped_SexPc.get_group((0,1))['Survived']\n"
   ]
  },
  {
   "cell_type": "code",
   "execution_count": 51,
   "id": "ac4af9ff",
   "metadata": {
    "execution": {
     "iopub.execute_input": "2022-10-22T22:01:54.757788Z",
     "iopub.status.busy": "2022-10-22T22:01:54.757355Z",
     "iopub.status.idle": "2022-10-22T22:01:54.764821Z",
     "shell.execute_reply": "2022-10-22T22:01:54.763680Z"
    },
    "papermill": {
     "duration": 0.036056,
     "end_time": "2022-10-22T22:01:54.766945",
     "exception": false,
     "start_time": "2022-10-22T22:01:54.730889",
     "status": "completed"
    },
    "tags": []
   },
   "outputs": [
    {
     "name": "stdout",
     "output_type": "stream",
     "text": [
      "fval= 130.32043470259032 Pval =  6.969691682457197e-24\n"
     ]
    }
   ],
   "source": [
    "fval, pval = stats.f_oneway(grouped_SexPc.get_group((0,1))['Survived'],grouped_SexPc.get_group((1,1))['Survived'])\n",
    "print('fval=', fval, 'Pval = ', pval)"
   ]
  },
  {
   "cell_type": "code",
   "execution_count": 52,
   "id": "c2d2a907",
   "metadata": {
    "execution": {
     "iopub.execute_input": "2022-10-22T22:01:54.818380Z",
     "iopub.status.busy": "2022-10-22T22:01:54.817660Z",
     "iopub.status.idle": "2022-10-22T22:01:54.837720Z",
     "shell.execute_reply": "2022-10-22T22:01:54.836876Z"
    },
    "papermill": {
     "duration": 0.048108,
     "end_time": "2022-10-22T22:01:54.839736",
     "exception": false,
     "start_time": "2022-10-22T22:01:54.791628",
     "status": "completed"
    },
    "tags": []
   },
   "outputs": [
    {
     "data": {
      "text/plain": [
       "(100.11135297834939,\n",
       " 9.314079656127385e-21,\n",
       " 4,\n",
       " array([[ 39.73063973,  60.26936027],\n",
       "        [196.66666667, 298.33333333],\n",
       "        [ 85.81818182, 130.18181818],\n",
       "        [ 27.41414141,  41.58585859],\n",
       "        [  4.37037037,   6.62962963]]))"
      ]
     },
     "execution_count": 52,
     "metadata": {},
     "output_type": "execute_result"
    }
   ],
   "source": [
    "cont_table = pd.crosstab(dftrain['Age'], dftrain['Alone']) \n",
    "#then we use the chi2_contingency in the scipy.stats library: \n",
    "stats.chi2_contingency(cont_table, correction = True)"
   ]
  },
  {
   "cell_type": "markdown",
   "id": "dba11f28",
   "metadata": {
    "papermill": {
     "duration": 0.024097,
     "end_time": "2022-10-22T22:01:54.888470",
     "exception": false,
     "start_time": "2022-10-22T22:01:54.864373",
     "status": "completed"
    },
    "tags": []
   },
   "source": [
    "# DecisionTreeRegressor"
   ]
  },
  {
   "cell_type": "code",
   "execution_count": 53,
   "id": "aa4ab885",
   "metadata": {
    "execution": {
     "iopub.execute_input": "2022-10-22T22:01:54.940017Z",
     "iopub.status.busy": "2022-10-22T22:01:54.939326Z",
     "iopub.status.idle": "2022-10-22T22:01:54.950888Z",
     "shell.execute_reply": "2022-10-22T22:01:54.949842Z"
    },
    "papermill": {
     "duration": 0.039922,
     "end_time": "2022-10-22T22:01:54.953319",
     "exception": false,
     "start_time": "2022-10-22T22:01:54.913397",
     "status": "completed"
    },
    "tags": []
   },
   "outputs": [],
   "source": [
    "feature_names = [\"Pclass\", \"Sex\", \"Alone\", \"Title\",'Fare','LargeF','Age','Embarked','MedF','SmallF']\n",
    "dtr_model = DecisionTreeRegressor(random_state=0)\n",
    "y = dftrain.Survived\n",
    "X = dftrain[feature_names]\n",
    "# Fit model\n",
    "dtr_model.fit(X, y)\n",
    "# Predict\n",
    "dtr_predictions = dtr_model.predict(X)"
   ]
  },
  {
   "cell_type": "code",
   "execution_count": 54,
   "id": "84dfa4da",
   "metadata": {
    "execution": {
     "iopub.execute_input": "2022-10-22T22:01:55.005036Z",
     "iopub.status.busy": "2022-10-22T22:01:55.004624Z",
     "iopub.status.idle": "2022-10-22T22:01:55.014806Z",
     "shell.execute_reply": "2022-10-22T22:01:55.013601Z"
    },
    "papermill": {
     "duration": 0.039929,
     "end_time": "2022-10-22T22:01:55.018389",
     "exception": false,
     "start_time": "2022-10-22T22:01:54.978460",
     "status": "completed"
    },
    "tags": []
   },
   "outputs": [
    {
     "name": "stdout",
     "output_type": "stream",
     "text": [
      "Making predictions for the following 5 passengers:\n",
      "   Pclass  Sex  Alone  Title  Fare  LargeF  Age  Embarked  MedF  SmallF\n",
      "0       3    0      0      1     0       0    1         0     0       1\n",
      "1       1    1      0      3     3       0    2         1     0       1\n",
      "2       3    1      1      2     1       0    1         0     0       0\n",
      "3       1    1      0      3     3       0    2         0     0       1\n",
      "4       3    0      1      1     1       0    2         0     0       0\n",
      "The predictions are: [0.14285714 1.         0.36363636 1.         0.1875    ]\n",
      "Actual: [0, 1, 1, 1, 0]\n"
     ]
    }
   ],
   "source": [
    "print(\"Making predictions for the following 5 passengers:\")\n",
    "print(X.head())\n",
    "print(\"The predictions are:\",dtr_predictions[:5])\n",
    "print('Actual:',y[:5].tolist())"
   ]
  },
  {
   "cell_type": "code",
   "execution_count": 55,
   "id": "06764cd4",
   "metadata": {
    "execution": {
     "iopub.execute_input": "2022-10-22T22:01:55.073079Z",
     "iopub.status.busy": "2022-10-22T22:01:55.071988Z",
     "iopub.status.idle": "2022-10-22T22:01:55.079368Z",
     "shell.execute_reply": "2022-10-22T22:01:55.078602Z"
    },
    "papermill": {
     "duration": 0.035769,
     "end_time": "2022-10-22T22:01:55.081404",
     "exception": false,
     "start_time": "2022-10-22T22:01:55.045635",
     "status": "completed"
    },
    "tags": []
   },
   "outputs": [
    {
     "data": {
      "text/plain": [
       "0.16384486045559837"
      ]
     },
     "execution_count": 55,
     "metadata": {},
     "output_type": "execute_result"
    }
   ],
   "source": [
    "mean_absolute_error(y, dtr_predictions)"
   ]
  },
  {
   "cell_type": "code",
   "execution_count": 56,
   "id": "ea75cdfd",
   "metadata": {
    "execution": {
     "iopub.execute_input": "2022-10-22T22:01:55.136078Z",
     "iopub.status.busy": "2022-10-22T22:01:55.135128Z",
     "iopub.status.idle": "2022-10-22T22:01:55.148212Z",
     "shell.execute_reply": "2022-10-22T22:01:55.146879Z"
    },
    "papermill": {
     "duration": 0.044282,
     "end_time": "2022-10-22T22:01:55.150635",
     "exception": false,
     "start_time": "2022-10-22T22:01:55.106353",
     "status": "completed"
    },
    "tags": []
   },
   "outputs": [
    {
     "name": "stdout",
     "output_type": "stream",
     "text": [
      "0.2115772555535922\n"
     ]
    }
   ],
   "source": [
    "# split data into training and validation data, for both features and target\n",
    "# The split is based on a random number generator. Supplying a numeric value to\n",
    "# the random_state argument guarantees we get the same split every time we\n",
    "# run this script.\n",
    "train_X, val_X, train_y, val_y = train_test_split(X, y, random_state = 0)\n",
    "# Define model\n",
    "dtr_model = DecisionTreeRegressor(random_state=0)\n",
    "# Fit model\n",
    "dtr_model.fit(train_X, train_y)\n",
    "# get predicted validation data\n",
    "val_predictions = dtr_model.predict(val_X)\n",
    "print(mean_absolute_error(val_y, val_predictions))"
   ]
  },
  {
   "cell_type": "code",
   "execution_count": 57,
   "id": "1889a9b8",
   "metadata": {
    "execution": {
     "iopub.execute_input": "2022-10-22T22:01:55.203314Z",
     "iopub.status.busy": "2022-10-22T22:01:55.202186Z",
     "iopub.status.idle": "2022-10-22T22:01:55.208045Z",
     "shell.execute_reply": "2022-10-22T22:01:55.207163Z"
    },
    "papermill": {
     "duration": 0.034284,
     "end_time": "2022-10-22T22:01:55.210020",
     "exception": false,
     "start_time": "2022-10-22T22:01:55.175736",
     "status": "completed"
    },
    "tags": []
   },
   "outputs": [],
   "source": [
    "def get_mae(max_leaf_nodes, train_X, val_X, train_y, val_y):\n",
    "    model = DecisionTreeRegressor(max_leaf_nodes=max_leaf_nodes, random_state=0)\n",
    "    model.fit(train_X, train_y)\n",
    "    preds_val = model.predict(val_X)\n",
    "    mae = mean_absolute_error(val_y, preds_val)\n",
    "    return(mae)"
   ]
  },
  {
   "cell_type": "code",
   "execution_count": 58,
   "id": "62d24f3a",
   "metadata": {
    "execution": {
     "iopub.execute_input": "2022-10-22T22:01:55.262724Z",
     "iopub.status.busy": "2022-10-22T22:01:55.261636Z",
     "iopub.status.idle": "2022-10-22T22:01:55.287372Z",
     "shell.execute_reply": "2022-10-22T22:01:55.286074Z"
    },
    "papermill": {
     "duration": 0.054833,
     "end_time": "2022-10-22T22:01:55.290109",
     "exception": false,
     "start_time": "2022-10-22T22:01:55.235276",
     "status": "completed"
    },
    "tags": []
   },
   "outputs": [
    {
     "name": "stdout",
     "output_type": "stream",
     "text": [
      "Max leaf nodes: None  \t\t Mean Absolute Error:  0.2116\n",
      "Max leaf nodes: 5  \t\t Mean Absolute Error:  0.2817\n",
      "Max leaf nodes: 50  \t\t Mean Absolute Error:  0.2282\n",
      "Max leaf nodes: 100  \t\t Mean Absolute Error:  0.2186\n",
      "Max leaf nodes: 500  \t\t Mean Absolute Error:  0.2156\n"
     ]
    }
   ],
   "source": [
    "# compare MAE with differing values of max_leaf_nodes\n",
    "for max_leaf_nodes in [None, 5, 50, 100,500]:\n",
    "    my_mae = get_mae(max_leaf_nodes, train_X, val_X, train_y, val_y)\n",
    "    print(\"Max leaf nodes: %s  \\t\\t Mean Absolute Error:  %0.4f\" %(max_leaf_nodes, my_mae))    "
   ]
  },
  {
   "cell_type": "markdown",
   "id": "a487ee16",
   "metadata": {
    "papermill": {
     "duration": 0.025282,
     "end_time": "2022-10-22T22:01:55.340425",
     "exception": false,
     "start_time": "2022-10-22T22:01:55.315143",
     "status": "completed"
    },
    "tags": []
   },
   "source": [
    "## RandomForestRegressor"
   ]
  },
  {
   "cell_type": "code",
   "execution_count": 59,
   "id": "65dfd384",
   "metadata": {
    "execution": {
     "iopub.execute_input": "2022-10-22T22:01:55.392823Z",
     "iopub.status.busy": "2022-10-22T22:01:55.391823Z",
     "iopub.status.idle": "2022-10-22T22:01:55.589015Z",
     "shell.execute_reply": "2022-10-22T22:01:55.587917Z"
    },
    "papermill": {
     "duration": 0.225941,
     "end_time": "2022-10-22T22:01:55.591361",
     "exception": false,
     "start_time": "2022-10-22T22:01:55.365420",
     "status": "completed"
    },
    "tags": []
   },
   "outputs": [
    {
     "data": {
      "text/plain": [
       "0.1910630421770291"
      ]
     },
     "execution_count": 59,
     "metadata": {},
     "output_type": "execute_result"
    }
   ],
   "source": [
    "rfr_model = RandomForestRegressor(random_state=1)\n",
    "feature_names = [\"Pclass\", \"Sex\", \"Alone\", \"Title\",'Fare','LargeF','Age','Embarked']\n",
    "#,'MedF','SmallF']\n",
    "X = dftrain[feature_names]\n",
    "y = dftrain.Survived\n",
    "rfr_model.fit(X, y)\n",
    "predictions = rfr_model.predict(X)\n",
    "mean_absolute_error(y, predictions)"
   ]
  },
  {
   "cell_type": "code",
   "execution_count": 60,
   "id": "b02e941b",
   "metadata": {
    "execution": {
     "iopub.execute_input": "2022-10-22T22:01:55.644778Z",
     "iopub.status.busy": "2022-10-22T22:01:55.644014Z",
     "iopub.status.idle": "2022-10-22T22:01:55.818049Z",
     "shell.execute_reply": "2022-10-22T22:01:55.816940Z"
    },
    "papermill": {
     "duration": 0.203578,
     "end_time": "2022-10-22T22:01:55.820695",
     "exception": false,
     "start_time": "2022-10-22T22:01:55.617117",
     "status": "completed"
    },
    "tags": []
   },
   "outputs": [
    {
     "data": {
      "text/plain": [
       "0.22592291301194775"
      ]
     },
     "execution_count": 60,
     "metadata": {},
     "output_type": "execute_result"
    }
   ],
   "source": [
    "train_X, val_X, train_y, val_y = train_test_split(X, y, random_state = 0)\n",
    "rfr_model = RandomForestRegressor(random_state=0)\n",
    "rfr_model.fit(train_X, train_y)\n",
    "# get predicted values on validation data\n",
    "rfr_preds = rfr_model.predict(val_X)\n",
    "mean_absolute_error(val_y, rfr_preds)"
   ]
  },
  {
   "cell_type": "code",
   "execution_count": 61,
   "id": "2a978c23",
   "metadata": {
    "execution": {
     "iopub.execute_input": "2022-10-22T22:01:55.873881Z",
     "iopub.status.busy": "2022-10-22T22:01:55.873072Z",
     "iopub.status.idle": "2022-10-22T22:01:55.879131Z",
     "shell.execute_reply": "2022-10-22T22:01:55.878385Z"
    },
    "papermill": {
     "duration": 0.03531,
     "end_time": "2022-10-22T22:01:55.881343",
     "exception": false,
     "start_time": "2022-10-22T22:01:55.846033",
     "status": "completed"
    },
    "tags": []
   },
   "outputs": [],
   "source": [
    "def get_rfr_mae(max_leaf_nodes, train_X, val_X, train_y, val_y):\n",
    "    model = RandomForestRegressor(max_leaf_nodes=max_leaf_nodes, random_state=0)\n",
    "    model.fit(train_X, train_y)\n",
    "    preds_val = model.predict(val_X)\n",
    "    mae = mean_absolute_error(val_y, preds_val)\n",
    "    return(mae)"
   ]
  },
  {
   "cell_type": "code",
   "execution_count": 62,
   "id": "8902a0ce",
   "metadata": {
    "execution": {
     "iopub.execute_input": "2022-10-22T22:01:55.934199Z",
     "iopub.status.busy": "2022-10-22T22:01:55.933420Z",
     "iopub.status.idle": "2022-10-22T22:01:56.761515Z",
     "shell.execute_reply": "2022-10-22T22:01:56.759431Z"
    },
    "papermill": {
     "duration": 0.858771,
     "end_time": "2022-10-22T22:01:56.765384",
     "exception": false,
     "start_time": "2022-10-22T22:01:55.906613",
     "status": "completed"
    },
    "tags": []
   },
   "outputs": [
    {
     "name": "stdout",
     "output_type": "stream",
     "text": [
      "Max leaf nodes: None  \t\t Mean Absolute Error:  0.2259\n",
      "Max leaf nodes: 5  \t\t Mean Absolute Error:  0.2786\n",
      "Max leaf nodes: 50  \t\t Mean Absolute Error:  0.2299\n",
      "Max leaf nodes: 100  \t\t Mean Absolute Error:  0.2253\n",
      "Max leaf nodes: 500  \t\t Mean Absolute Error:  0.2253\n"
     ]
    }
   ],
   "source": [
    "# compare MAE with differing values of max_leaf_nodes\n",
    "for max_leaf_nodes in [None, 5, 50, 100,500]:\n",
    "    my_mae = get_rfr_mae(max_leaf_nodes, train_X, val_X, train_y, val_y)\n",
    "    print(\"Max leaf nodes: %s  \\t\\t Mean Absolute Error:  %0.4f\" %(max_leaf_nodes, my_mae))    "
   ]
  },
  {
   "cell_type": "markdown",
   "id": "f52386a9",
   "metadata": {
    "papermill": {
     "duration": 0.025535,
     "end_time": "2022-10-22T22:01:56.820066",
     "exception": false,
     "start_time": "2022-10-22T22:01:56.794531",
     "status": "completed"
    },
    "tags": []
   },
   "source": [
    "# Output"
   ]
  },
  {
   "cell_type": "code",
   "execution_count": 63,
   "id": "0fc2ccd4",
   "metadata": {
    "execution": {
     "iopub.execute_input": "2022-10-22T22:01:56.872778Z",
     "iopub.status.busy": "2022-10-22T22:01:56.872011Z",
     "iopub.status.idle": "2022-10-22T22:01:56.899575Z",
     "shell.execute_reply": "2022-10-22T22:01:56.898057Z"
    },
    "papermill": {
     "duration": 0.056475,
     "end_time": "2022-10-22T22:01:56.901887",
     "exception": false,
     "start_time": "2022-10-22T22:01:56.845412",
     "status": "completed"
    },
    "tags": []
   },
   "outputs": [
    {
     "name": "stdout",
     "output_type": "stream",
     "text": [
      "Making predictions for the following 5 passengers:\n",
      "   Pclass  Sex  Alone  Title  Fare  LargeF  Age  Embarked\n",
      "0       3    0      1      1     0       0    2         2\n",
      "1       3    1      0      3     0       0    2         0\n",
      "2       2    0      1      1     1       0    3         2\n",
      "3       3    0      1      1     1       0    1         0\n",
      "4       3    1      0      3     1       0    1         0\n",
      "The predictions are: [0.00143541 0.41819048 0.13       0.15915245 0.67846429]\n"
     ]
    }
   ],
   "source": [
    "predictions = rfr_model.predict(dfeval[feature_names])\n",
    "print(\"Making predictions for the following 5 passengers:\")\n",
    "print(dfeval[feature_names].head())\n",
    "print(\"The predictions are:\",predictions[:5])"
   ]
  },
  {
   "cell_type": "code",
   "execution_count": 64,
   "id": "dab67f3c",
   "metadata": {
    "execution": {
     "iopub.execute_input": "2022-10-22T22:01:56.955196Z",
     "iopub.status.busy": "2022-10-22T22:01:56.954339Z",
     "iopub.status.idle": "2022-10-22T22:01:56.965926Z",
     "shell.execute_reply": "2022-10-22T22:01:56.964431Z"
    },
    "papermill": {
     "duration": 0.040918,
     "end_time": "2022-10-22T22:01:56.968571",
     "exception": false,
     "start_time": "2022-10-22T22:01:56.927653",
     "status": "completed"
    },
    "tags": []
   },
   "outputs": [
    {
     "name": "stdout",
     "output_type": "stream",
     "text": [
      "Your submission was successfully saved!\n"
     ]
    }
   ],
   "source": [
    "output = pd.DataFrame({'PassengerId': dfeval.PassengerId, 'Survived': predictions})\n",
    "output.to_csv('submission2.csv', index=False)\n",
    "print(\"Your submission was successfully saved!\")"
   ]
  }
 ],
 "metadata": {
  "kernelspec": {
   "display_name": "Python 3",
   "language": "python",
   "name": "python3"
  },
  "language_info": {
   "codemirror_mode": {
    "name": "ipython",
    "version": 3
   },
   "file_extension": ".py",
   "mimetype": "text/x-python",
   "name": "python",
   "nbconvert_exporter": "python",
   "pygments_lexer": "ipython3",
   "version": "3.7.12"
  },
  "papermill": {
   "default_parameters": {},
   "duration": 20.011109,
   "end_time": "2022-10-22T22:01:57.815889",
   "environment_variables": {},
   "exception": null,
   "input_path": "__notebook__.ipynb",
   "output_path": "__notebook__.ipynb",
   "parameters": {},
   "start_time": "2022-10-22T22:01:37.804780",
   "version": "2.3.4"
  }
 },
 "nbformat": 4,
 "nbformat_minor": 5
}
